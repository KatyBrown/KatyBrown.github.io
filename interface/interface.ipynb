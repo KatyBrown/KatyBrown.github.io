{
 "cells": [
  {
   "cell_type": "markdown",
   "metadata": {},
   "source": [
    "# Big Data Tools"
   ]
  },
  {
   "cell_type": "markdown",
   "metadata": {},
   "source": [
    "## Part 1 - Data Analysis\n",
    "\n",
    "[Data Analysis](Data_Analysis.ipynb) ([alternative](Data_Analysis.html))\n",
    "\n",
    "\n",
    "## Part 2 - Research\n",
    "[Geography](Geography.ipynb) ([alternative](Geography.html))\n",
    "\n",
    "[Food](Diet.ipynb) ([alternative](Diet.html))\n",
    "\n",
    "[Links](Resources.ipynb) ([alternative](Resources.html))\n"
   ]
  },
  {
   "cell_type": "code",
   "execution_count": null,
   "metadata": {},
   "outputs": [],
   "source": []
  }
 ],
 "metadata": {
  "kernelspec": {
   "display_name": "Python 3",
   "language": "python",
   "name": "python3"
  },
  "language_info": {
   "codemirror_mode": {
    "name": "ipython",
    "version": 3
   },
   "file_extension": ".py",
   "mimetype": "text/x-python",
   "name": "python",
   "nbconvert_exporter": "python",
   "pygments_lexer": "ipython3",
   "version": "3.6.3"
  }
 },
 "nbformat": 4,
 "nbformat_minor": 2
}
