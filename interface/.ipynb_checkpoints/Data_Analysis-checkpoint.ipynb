{
 "cells": [
  {
   "cell_type": "code",
   "execution_count": 3,
   "metadata": {},
   "outputs": [],
   "source": [
    "%matplotlib inline\n",
    "import functions\n",
    "import ipywidgets as widgets"
   ]
  },
  {
   "cell_type": "code",
   "execution_count": 4,
   "metadata": {},
   "outputs": [
    {
     "data": {
      "text/html": [
       "<script>\n",
       "code_show=true; \n",
       "function code_toggle() {\n",
       " if (code_show){\n",
       " $('div.input').hide();\n",
       " } else {\n",
       " $('div.input').show();\n",
       " }\n",
       " code_show = !code_show\n",
       "} \n",
       "$( document ).ready(code_toggle);\n",
       "</script>\n",
       "<form action=\"javascript:code_toggle()\"><input type=\"submit\" value=\".\"></form>"
      ],
      "text/plain": [
       "<IPython.core.display.HTML object>"
      ]
     },
     "execution_count": 4,
     "metadata": {},
     "output_type": "execute_result"
    }
   ],
   "source": [
    "from IPython.display import HTML\n",
    "\n",
    "HTML('''<script>\n",
    "code_show=true; \n",
    "function code_toggle() {\n",
    " if (code_show){\n",
    " $('div.input').hide();\n",
    " } else {\n",
    " $('div.input').show();\n",
    " }\n",
    " code_show = !code_show\n",
    "} \n",
    "$( document ).ready(code_toggle);\n",
    "</script>\n",
    "<form action=\"javascript:code_toggle()\"><input type=\"submit\" value=\".\"></form>''')\n"
   ]
  },
  {
   "cell_type": "code",
   "execution_count": 7,
   "metadata": {},
   "outputs": [
    {
     "data": {
      "application/javascript": [
       "IPython.OutputArea.prototype._should_scroll = function(lines) {\n",
       "    return false;\n",
       "}"
      ],
      "text/plain": [
       "<IPython.core.display.Javascript object>"
      ]
     },
     "metadata": {},
     "output_type": "display_data"
    }
   ],
   "source": [
    "%%javascript\n",
    "IPython.OutputArea.prototype._should_scroll = function(lines) {\n",
    "    return false;\n",
    "}"
   ]
  },
  {
   "cell_type": "code",
   "execution_count": 8,
   "metadata": {},
   "outputs": [],
   "source": [
    "import importlib\n",
    "importlib.reload(functions)\n",
    "m = functions.getPathNames()"
   ]
  },
  {
   "cell_type": "markdown",
   "metadata": {},
   "source": [
    "This app will help you analyse your next generation sequencing data.\n",
    "\n",
    "You might want to use some of the graphs for your infographic later.\n",
    "\n",
    "If you want to save an image, right click on it and choose \"Save Image As\".\n",
    "\n",
    "If you want to print a graph, right click on it and choose"
   ]
  },
  {
   "cell_type": "markdown",
   "metadata": {},
   "source": [
    "## Important: Select your dataset ID in this menu before running the analysis below."
   ]
  },
  {
   "cell_type": "code",
   "execution_count": 9,
   "metadata": {},
   "outputs": [
    {
     "data": {
      "application/vnd.jupyter.widget-view+json": {
       "model_id": "37d1e75c42d9465ca805cb8b8bbff094",
       "version_major": 2,
       "version_minor": 0
      },
      "text/html": [
       "<p>Failed to display Jupyter Widget of type <code>Dropdown</code>.</p>\n",
       "<p>\n",
       "  If you're reading this message in the Jupyter Notebook or JupyterLab Notebook, it may mean\n",
       "  that the widgets JavaScript is still loading. If this message persists, it\n",
       "  likely means that the widgets JavaScript library is either not installed or\n",
       "  not enabled. See the <a href=\"https://ipywidgets.readthedocs.io/en/stable/user_install.html\">Jupyter\n",
       "  Widgets Documentation</a> for setup instructions.\n",
       "</p>\n",
       "<p>\n",
       "  If you're reading this message in another frontend (for example, a static\n",
       "  rendering on GitHub or <a href=\"https://nbviewer.jupyter.org/\">NBViewer</a>),\n",
       "  it may mean that your frontend doesn't currently support widgets.\n",
       "</p>\n"
      ],
      "text/plain": [
       "Dropdown(options=(1, 2, 3, 4, 5, 6), value=1)"
      ]
     },
     "metadata": {},
     "output_type": "display_data"
    }
   ],
   "source": [
    "dataset_id = widgets.Dropdown(options=range(1, 7))\n",
    "dataset_id"
   ]
  },
  {
   "cell_type": "markdown",
   "metadata": {},
   "source": [
    "## Examine the data"
   ]
  },
  {
   "cell_type": "markdown",
   "metadata": {},
   "source": [
    "Your data consists of a set of 40,000 next generation sequencing **reads**.\n",
    "\n",
    "Your task is to find out as much as you can about the animal the reads come from by analysing the data.\n",
    "\n",
    "First, you need to look at your data.\n",
    "\n",
    "Click on the button below to view 50 random reads from your data."
   ]
  },
  {
   "cell_type": "code",
   "execution_count": 10,
   "metadata": {},
   "outputs": [
    {
     "data": {
      "application/vnd.jupyter.widget-view+json": {
       "model_id": "0ffcc0b6cca04b12aa5cd6c1f6715ff6",
       "version_major": 2,
       "version_minor": 0
      },
      "text/html": [
       "<p>Failed to display Jupyter Widget of type <code>Button</code>.</p>\n",
       "<p>\n",
       "  If you're reading this message in the Jupyter Notebook or JupyterLab Notebook, it may mean\n",
       "  that the widgets JavaScript is still loading. If this message persists, it\n",
       "  likely means that the widgets JavaScript library is either not installed or\n",
       "  not enabled. See the <a href=\"https://ipywidgets.readthedocs.io/en/stable/user_install.html\">Jupyter\n",
       "  Widgets Documentation</a> for setup instructions.\n",
       "</p>\n",
       "<p>\n",
       "  If you're reading this message in another frontend (for example, a static\n",
       "  rendering on GitHub or <a href=\"https://nbviewer.jupyter.org/\">NBViewer</a>),\n",
       "  it may mean that your frontend doesn't currently support widgets.\n",
       "</p>\n"
      ],
      "text/plain": [
       "Button(description='View 50 Reads', layout=Layout(height='50px', width='300px'), style=ButtonStyle())"
      ]
     },
     "metadata": {},
     "output_type": "display_data"
    }
   ],
   "source": [
    "importlib.reload(functions)\n",
    "button = widgets.Button(description=\"View 50 Reads\",\n",
    "                        layout=widgets.Layout(width='300px',\n",
    "                                             height='50px'))\n",
    "\n",
    "def onbuttonclick(b):\n",
    "    functions.sampleReads(functions.FastaToDict(\"../data/sample_%s_reads.fasta\" % dataset_id.value), 50)\n",
    "button.on_click(onbuttonclick)\n",
    "b = display(button)"
   ]
  },
  {
   "cell_type": "markdown",
   "metadata": {},
   "source": [
    "[alternative link dataset 1](../data/sample_1_reads_random.fasta),\n",
    "[alternative link dataset 2](../data/sample_2_reads_random.fasta),\n",
    "[alternative link dataset 3](../data/sample_3_reads_random.fasta),\n",
    "[alternative link dataset 4](../data/sample_4_reads_random.fasta),\n",
    "[alternative link dataset 5](../data/sample_5_reads_random.fasta),\n",
    "[alternative link dataset 6](../data/sample_6_reads_random.fasta)"
   ]
  },
  {
   "cell_type": "markdown",
   "metadata": {},
   "source": [
    "If you want to see all of your reads, click on the button below."
   ]
  },
  {
   "cell_type": "code",
   "execution_count": 11,
   "metadata": {},
   "outputs": [
    {
     "data": {
      "application/vnd.jupyter.widget-view+json": {
       "model_id": "acac1cf59f83466e8f3700e3404e29fc",
       "version_major": 2,
       "version_minor": 0
      },
      "text/html": [
       "<p>Failed to display Jupyter Widget of type <code>Button</code>.</p>\n",
       "<p>\n",
       "  If you're reading this message in the Jupyter Notebook or JupyterLab Notebook, it may mean\n",
       "  that the widgets JavaScript is still loading. If this message persists, it\n",
       "  likely means that the widgets JavaScript library is either not installed or\n",
       "  not enabled. See the <a href=\"https://ipywidgets.readthedocs.io/en/stable/user_install.html\">Jupyter\n",
       "  Widgets Documentation</a> for setup instructions.\n",
       "</p>\n",
       "<p>\n",
       "  If you're reading this message in another frontend (for example, a static\n",
       "  rendering on GitHub or <a href=\"https://nbviewer.jupyter.org/\">NBViewer</a>),\n",
       "  it may mean that your frontend doesn't currently support widgets.\n",
       "</p>\n"
      ],
      "text/plain": [
       "Button(description='View All Reads', layout=Layout(height='50px', width='300px'), style=ButtonStyle())"
      ]
     },
     "metadata": {},
     "output_type": "display_data"
    }
   ],
   "source": [
    "importlib.reload(functions)\n",
    "button = widgets.Button(description=\"View All Reads\",\n",
    "                        layout=widgets.Layout(width='300px',\n",
    "                                             height='50px'))\n",
    "\n",
    "def onbuttonclick(b):\n",
    "    functions.goToReads(dataset_id.value)\n",
    "button.on_click(onbuttonclick)\n",
    "b = display(button)"
   ]
  },
  {
   "cell_type": "markdown",
   "metadata": {},
   "source": [
    "[alternative link dataset 1](../data/sample_1_reads.fasta),\n",
    "[alternative link dataset 2](../data/sample_2_reads.fasta),\n",
    "[alternative link dataset 3](../data/sample_3_reads.fasta),\n",
    "[alternative link dataset 4](../data/sample_4_reads.fasta),\n",
    "[alternative link dataset 5](../data/sample_5_reads.fasta),\n",
    "[alternative link dataset 6](../data/sample_6_reads.fasta)"
   ]
  },
  {
   "cell_type": "markdown",
   "metadata": {},
   "source": [
    "## Search your data"
   ]
  },
  {
   "cell_type": "markdown",
   "metadata": {},
   "source": [
    "It is difficult to find anything out about your data just from looking at it!\n",
    "\n",
    "Instead, we can start to search for sequences which look similar to different reference sequences."
   ]
  },
  {
   "cell_type": "markdown",
   "metadata": {},
   "source": [
    "### Research the Reference Microbes\n",
    "\n",
    "First, you will search in your sample for each of 20 microbes which can cause disease in some animals.\n",
    "\n",
    "You can find out about these microbes by selecting them in the menu below and by searching for them online.\n",
    "\n",
    "(Loading these images can be slow)"
   ]
  },
  {
   "cell_type": "code",
   "execution_count": 12,
   "metadata": {
    "scrolled": false
   },
   "outputs": [
    {
     "data": {
      "application/vnd.jupyter.widget-view+json": {
       "model_id": "71eae84e941b42ffae10d4df45f980e3",
       "version_major": 2,
       "version_minor": 0
      },
      "text/html": [
       "<p>Failed to display Jupyter Widget of type <code>interactive</code>.</p>\n",
       "<p>\n",
       "  If you're reading this message in the Jupyter Notebook or JupyterLab Notebook, it may mean\n",
       "  that the widgets JavaScript is still loading. If this message persists, it\n",
       "  likely means that the widgets JavaScript library is either not installed or\n",
       "  not enabled. See the <a href=\"https://ipywidgets.readthedocs.io/en/stable/user_install.html\">Jupyter\n",
       "  Widgets Documentation</a> for setup instructions.\n",
       "</p>\n",
       "<p>\n",
       "  If you're reading this message in another frontend (for example, a static\n",
       "  rendering on GitHub or <a href=\"https://nbviewer.jupyter.org/\">NBViewer</a>),\n",
       "  it may mean that your frontend doesn't currently support widgets.\n",
       "</p>\n"
      ],
      "text/plain": [
       "interactive(children=(Dropdown(description='microbe', options=('Select option', 'Anaplasma phagocytophilum', 'Bartonella henselae', 'Bartonella vinsonii', 'Borna disease virus', 'Bovine leukemia virus', 'Brucella abortus', 'Brucella suis', 'Canine parvovirus', 'Classical swine fever virus', 'Equine infectious anemia virus', 'Escherichia coli', 'Feline leukemia virus', 'Foot and mouth disease virus', 'Hepatitis e virus', 'Influenza a virus', 'Mycoplasma haemofelis', 'Neorickettsia risticii', 'Rabies lyssavirus', 'Torque teno sus virus', 'Visna virus'), value='Select option'), Checkbox(value=False, description='save'), Output()), _dom_classes=('widget-interact',))"
      ]
     },
     "metadata": {},
     "output_type": "display_data"
    }
   ],
   "source": [
    "importlib.reload(functions)\n",
    "M = functions.getDropdown('microbe_name', microbes=m)\n",
    "w = widgets.interact(functions.plotRefSeq, microbe=M)"
   ]
  },
  {
   "cell_type": "markdown",
   "metadata": {},
   "source": [
    "Alternative links:\n",
    "[Feline leukemia virus](feline_leukemia_virus.png)\n",
    "[Mycoplasma haemofelis](mycoplasma_haemofelis.png)\n",
    "[Bartonella henselae](bartonella_henselae.png)\n",
    "[Borna disease virus](borna_disease_virus.png)\n",
    "[Equine infectious anemia virus](equine_infectious_anemia_virus.png)\n",
    "[Neorickettsia risticii](neorickettsia_risticii.png)\n",
    "[Bartonella vinsonii](bartonella_vinsonii.png)\n",
    "[Canine parvovirus](canine_parvovirus.png)\n",
    "[Rabies lyssavirus](rabies_lyssavirus.png)\n",
    "[Brucella abortus](brucella_abortus.png)\n",
    "[Bovine leukemia virus](bovine_leukemia_virus.png)\n",
    "[Foot and mouth disease virus](foot_and_mouth_disease_virus.png)\n",
    "[Anaplasma phagocytophilum](anaplasma_phagocytophilum.png)\n",
    "[Escherichia coli](escherichia_coli.png)\n",
    "[Visna virus](visna_virus.png)\n",
    "[Classical swine fever virus](classical_swine_fever_virus.png)\n",
    "[Hepatitis e virus](hepatitis_e_virus.png)\n",
    "[Brucella suis](brucella_suis.png)\n",
    "[Influenza a virus](influenza_a_virus.png)\n",
    "[Torque teno sus virus](torque_teno_sus_virus.png)\n"
   ]
  },
  {
   "cell_type": "markdown",
   "metadata": {},
   "source": [
    "### Match your reads to the reference data"
   ]
  },
  {
   "cell_type": "markdown",
   "metadata": {},
   "source": [
    "We can now look if any of your reads match any of these known microbes."
   ]
  },
  {
   "cell_type": "code",
   "execution_count": 9,
   "metadata": {},
   "outputs": [
    {
     "data": {
      "application/vnd.jupyter.widget-view+json": {
       "model_id": "27b77b5566fa40cc8203018fcb3ce0e8",
       "version_major": 2,
       "version_minor": 0
      },
      "text/html": [
       "<p>Failed to display Jupyter Widget of type <code>Button</code>.</p>\n",
       "<p>\n",
       "  If you're reading this message in the Jupyter Notebook or JupyterLab Notebook, it may mean\n",
       "  that the widgets JavaScript is still loading. If this message persists, it\n",
       "  likely means that the widgets JavaScript library is either not installed or\n",
       "  not enabled. See the <a href=\"https://ipywidgets.readthedocs.io/en/stable/user_install.html\">Jupyter\n",
       "  Widgets Documentation</a> for setup instructions.\n",
       "</p>\n",
       "<p>\n",
       "  If you're reading this message in another frontend (for example, a static\n",
       "  rendering on GitHub or <a href=\"https://nbviewer.jupyter.org/\">NBViewer</a>),\n",
       "  it may mean that your frontend doesn't currently support widgets.\n",
       "</p>\n"
      ],
      "text/plain": [
       "Button(description='Match Reads to Reference Sequences!', layout=Layout(height='50px', width='300px'), style=ButtonStyle())"
      ]
     },
     "metadata": {},
     "output_type": "display_data"
    }
   ],
   "source": [
    "importlib.reload(functions)\n",
    "button = widgets.Button(description=\"Match Reads to Reference Sequences!\",\n",
    "                        layout=widgets.Layout(width='300px',\n",
    "                                             height='50px'))\n",
    "\n",
    "def onbuttonclick(b):\n",
    "    r = functions.mapReadsDisplay(dataset_id.value, '../data/references.fasta')\n",
    "button.on_click(onbuttonclick)\n",
    "b = display(button)"
   ]
  },
  {
   "cell_type": "markdown",
   "metadata": {},
   "source": [
    "[alternative link dataset 1](dataset_1_mapping.txt),\n",
    "[alternative link dataset 2](dataset_2_mapping.txt),\n",
    "[alternative link dataset 3](dataset_3_mapping.txt),\n",
    "[alternative link dataset 4](dataset_4_mapping.txt),\n",
    "[alternative link dataset 5](dataset_5_mapping.txt),\n",
    "[alternative link dataset 6](dataset_6_mapping.txt)"
   ]
  },
  {
   "cell_type": "code",
   "execution_count": null,
   "metadata": {},
   "outputs": [],
   "source": []
  },
  {
   "cell_type": "markdown",
   "metadata": {},
   "source": [
    "Now your reads are mapped to the 20 reference microbe genomes.\n",
    "\n",
    "Click on the button below to view how many results you found per reference genome."
   ]
  },
  {
   "cell_type": "code",
   "execution_count": 10,
   "metadata": {},
   "outputs": [
    {
     "data": {
      "application/vnd.jupyter.widget-view+json": {
       "model_id": "6cdd9efd0d07497e81d9ef64cba88286",
       "version_major": 2,
       "version_minor": 0
      },
      "text/html": [
       "<p>Failed to display Jupyter Widget of type <code>Button</code>.</p>\n",
       "<p>\n",
       "  If you're reading this message in the Jupyter Notebook or JupyterLab Notebook, it may mean\n",
       "  that the widgets JavaScript is still loading. If this message persists, it\n",
       "  likely means that the widgets JavaScript library is either not installed or\n",
       "  not enabled. See the <a href=\"https://ipywidgets.readthedocs.io/en/stable/user_install.html\">Jupyter\n",
       "  Widgets Documentation</a> for setup instructions.\n",
       "</p>\n",
       "<p>\n",
       "  If you're reading this message in another frontend (for example, a static\n",
       "  rendering on GitHub or <a href=\"https://nbviewer.jupyter.org/\">NBViewer</a>),\n",
       "  it may mean that your frontend doesn't currently support widgets.\n",
       "</p>\n"
      ],
      "text/plain": [
       "Button(description='Count Reads per Microbe', layout=Layout(height='50px', width='300px'), style=ButtonStyle())"
      ]
     },
     "metadata": {},
     "output_type": "display_data"
    }
   ],
   "source": [
    "importlib.reload(functions)\n",
    "button = widgets.Button(description=\"Count Reads per Microbe\",\n",
    "                        layout=widgets.Layout(width='300px',\n",
    "                                             height='50px'))\n",
    "\n",
    "def onbuttonclick(b):\n",
    "    functions.showMappingBar(dataset_id.value)\n",
    "button.on_click(onbuttonclick)\n",
    "b = display(button)"
   ]
  },
  {
   "cell_type": "markdown",
   "metadata": {},
   "source": [
    "[alternative link dataset 1](1_reads_bar_path.png), \n",
    "[alternative link dataset 2](2_reads_bar_path.png), \n",
    "[alternative link dataset 3](3_reads_bar_path.png), \n",
    "[alternative link dataset 4](4_reads_bar_path.png), \n",
    "[alternative link dataset 5](5_reads_bar_path.png), \n",
    "[alternative link dataset 6](6_reads_bar_path.png)"
   ]
  },
  {
   "cell_type": "markdown",
   "metadata": {},
   "source": [
    "You can also look where on the microbe reference genome your reads were found."
   ]
  },
  {
   "cell_type": "code",
   "execution_count": 11,
   "metadata": {},
   "outputs": [
    {
     "data": {
      "application/vnd.jupyter.widget-view+json": {
       "model_id": "15e573e25eff42889a1b6267fd958447",
       "version_major": 2,
       "version_minor": 0
      },
      "text/html": [
       "<p>Failed to display Jupyter Widget of type <code>Button</code>.</p>\n",
       "<p>\n",
       "  If you're reading this message in the Jupyter Notebook or JupyterLab Notebook, it may mean\n",
       "  that the widgets JavaScript is still loading. If this message persists, it\n",
       "  likely means that the widgets JavaScript library is either not installed or\n",
       "  not enabled. See the <a href=\"https://ipywidgets.readthedocs.io/en/stable/user_install.html\">Jupyter\n",
       "  Widgets Documentation</a> for setup instructions.\n",
       "</p>\n",
       "<p>\n",
       "  If you're reading this message in another frontend (for example, a static\n",
       "  rendering on GitHub or <a href=\"https://nbviewer.jupyter.org/\">NBViewer</a>),\n",
       "  it may mean that your frontend doesn't currently support widgets.\n",
       "</p>\n"
      ],
      "text/plain": [
       "Button(description='Show Read Mapping', layout=Layout(height='50px', width='300px'), style=ButtonStyle())"
      ]
     },
     "metadata": {},
     "output_type": "display_data"
    }
   ],
   "source": [
    "importlib.reload(functions)\n",
    "button = widgets.Button(description=\"Show Read Mapping\",\n",
    "                        layout=widgets.Layout(width='300px',\n",
    "                                             height='50px'))\n",
    "\n",
    "def onbuttonclick(b):\n",
    "    functions.showMapping(dataset_id.value)\n",
    "button.on_click(onbuttonclick)\n",
    "b = display(button)"
   ]
  },
  {
   "cell_type": "markdown",
   "metadata": {},
   "source": [
    "[alternative link dataset 1](1_reads_mapping_path.png), \n",
    "[alternative link dataset 2](2_reads_mapping_path.png), \n",
    "[alternative link dataset 3](3_reads_mapping_path.png), \n",
    "[alternative link dataset 4](4_reads_mapping_path.png), \n",
    "[alternative link dataset 5](5_reads_mapping_path.png), \n",
    "[alternative link dataset 6](6_reads_mapping_path.png)"
   ]
  },
  {
   "cell_type": "markdown",
   "metadata": {},
   "source": [
    "Finally, here are your results in a table."
   ]
  },
  {
   "cell_type": "code",
   "execution_count": 12,
   "metadata": {},
   "outputs": [
    {
     "data": {
      "application/vnd.jupyter.widget-view+json": {
       "model_id": "72c233e0124a4314b90cbdbbbfc6ac1c",
       "version_major": 2,
       "version_minor": 0
      },
      "text/html": [
       "<p>Failed to display Jupyter Widget of type <code>Button</code>.</p>\n",
       "<p>\n",
       "  If you're reading this message in the Jupyter Notebook or JupyterLab Notebook, it may mean\n",
       "  that the widgets JavaScript is still loading. If this message persists, it\n",
       "  likely means that the widgets JavaScript library is either not installed or\n",
       "  not enabled. See the <a href=\"https://ipywidgets.readthedocs.io/en/stable/user_install.html\">Jupyter\n",
       "  Widgets Documentation</a> for setup instructions.\n",
       "</p>\n",
       "<p>\n",
       "  If you're reading this message in another frontend (for example, a static\n",
       "  rendering on GitHub or <a href=\"https://nbviewer.jupyter.org/\">NBViewer</a>),\n",
       "  it may mean that your frontend doesn't currently support widgets.\n",
       "</p>\n"
      ],
      "text/plain": [
       "Button(description='Show Read Mapping Table', layout=Layout(height='50px', width='300px'), style=ButtonStyle())"
      ]
     },
     "metadata": {},
     "output_type": "display_data"
    }
   ],
   "source": [
    "importlib.reload(functions)\n",
    "button = widgets.Button(description=\"Show Read Mapping Table\",\n",
    "                        layout=widgets.Layout(width='300px',\n",
    "                                             height='50px'))\n",
    "\n",
    "def onbuttonclick(b):\n",
    "    functions.showMappingTable(dataset_id.value, 1)\n",
    "button.on_click(onbuttonclick)\n",
    "button2 = widgets.Button(description=\"Download Read Mapping Table\",\n",
    "                        layout=widgets.Layout(width='300px',\n",
    "                                             height='50px'))\n",
    "\n",
    "b = display(button)"
   ]
  },
  {
   "cell_type": "markdown",
   "metadata": {},
   "source": [
    "[alternative link dataset 1](1_mapping_table.tsv), \n",
    "[alternative link dataset 2](2_mapping_table.tsv), \n",
    "[alternative link dataset 3](3_mapping_table.tsv), \n",
    "[alternative link dataset 4](4_mapping_table.tsv), \n",
    "[alternative link dataset 5](5_mapping_table.tsv), \n",
    "[alternative link dataset 6](6_mapping_table.tsv), "
   ]
  },
  {
   "cell_type": "markdown",
   "metadata": {},
   "source": [
    "Write down the **top three** disease causing microbes in your sample - you will use these results later."
   ]
  },
  {
   "cell_type": "markdown",
   "metadata": {},
   "source": [
    "## Match your reads to digestive bacteria"
   ]
  },
  {
   "cell_type": "markdown",
   "metadata": {},
   "source": [
    "Next, we will look for **digestive bacteria** in the sample- these are helpful bacteria which help our bodies digest food and usally don't cause disease."
   ]
  },
  {
   "cell_type": "markdown",
   "metadata": {},
   "source": [
    "There are many more digestive bacteria to look for than disease causing microbes, so we won't look at them one by one."
   ]
  },
  {
   "cell_type": "markdown",
   "metadata": {},
   "source": [
    "Click on the button below to map your reads to 43 digestive bacteria."
   ]
  },
  {
   "cell_type": "code",
   "execution_count": 16,
   "metadata": {},
   "outputs": [
    {
     "data": {
      "application/vnd.jupyter.widget-view+json": {
       "model_id": "8dda2523829b43668f4fea09124bd0ba",
       "version_major": 2,
       "version_minor": 0
      },
      "text/html": [
       "<p>Failed to display Jupyter Widget of type <code>Button</code>.</p>\n",
       "<p>\n",
       "  If you're reading this message in the Jupyter Notebook or JupyterLab Notebook, it may mean\n",
       "  that the widgets JavaScript is still loading. If this message persists, it\n",
       "  likely means that the widgets JavaScript library is either not installed or\n",
       "  not enabled. See the <a href=\"https://ipywidgets.readthedocs.io/en/stable/user_install.html\">Jupyter\n",
       "  Widgets Documentation</a> for setup instructions.\n",
       "</p>\n",
       "<p>\n",
       "  If you're reading this message in another frontend (for example, a static\n",
       "  rendering on GitHub or <a href=\"https://nbviewer.jupyter.org/\">NBViewer</a>),\n",
       "  it may mean that your frontend doesn't currently support widgets.\n",
       "</p>\n"
      ],
      "text/plain": [
       "Button(description='Match Reads to Reference Sequences!', layout=Layout(height='50px', width='300px'), style=ButtonStyle())"
      ]
     },
     "metadata": {},
     "output_type": "display_data"
    },
    {
     "name": "stdout",
     "output_type": "stream",
     "text": [
      "Loading data....\n",
      "\n",
      "Loaded 40,000 reads\n",
      "Mapping reads...\n",
      "\n",
      "1 / 43: Mapping reads to Anaerostipes hadrus\n",
      "0 reads identified matching Anaerostipes hadrus\n",
      "0 reads identified in total\n",
      "\n",
      "2 / 43: Mapping reads to Dialister succinatiphilus\n",
      "0 reads identified matching Dialister succinatiphilus\n",
      "0 reads identified in total\n",
      "\n",
      "3 / 43: Mapping reads to Coprococcus comes\n",
      "0 reads identified matching Coprococcus comes\n",
      "0 reads identified in total\n",
      "\n",
      "4 / 43: Mapping reads to Butyricicoccus pullicaecorum\n",
      "0 reads identified matching Butyricicoccus pullicaecorum\n",
      "0 reads identified in total\n",
      "\n",
      "5 / 43: Mapping reads to Treponema succinifaciens\n",
      "0 reads identified matching Treponema succinifaciens\n",
      "0 reads identified in total\n",
      "\n",
      "6 / 43: Mapping reads to Intestinibacter bartlettii\n",
      "0 reads identified matching Intestinibacter bartlettii\n",
      "0 reads identified in total\n",
      "\n",
      "7 / 43: Mapping reads to Sporobacter termitidis\n",
      "0 reads identified matching Sporobacter termitidis\n",
      "0 reads identified in total\n",
      "\n",
      "8 / 43: Mapping reads to Muribaculum intestinale\n",
      "1326 reads identified matching Muribaculum intestinale\n",
      "1326 reads identified in total\n",
      "\n",
      "9 / 43: Mapping reads to Collinsella intestinalis\n",
      "0 reads identified matching Collinsella intestinalis\n",
      "1326 reads identified in total\n",
      "\n",
      "10 / 43: Mapping reads to Bacteroides vulgatus\n",
      "0 reads identified matching Bacteroides vulgatus\n",
      "1326 reads identified in total\n",
      "\n",
      "11 / 43: Mapping reads to Brevundimonas naejangsanensis\n",
      "0 reads identified matching Brevundimonas naejangsanensis\n",
      "1326 reads identified in total\n",
      "\n",
      "12 / 43: Mapping reads to Kiritimatiella glycovorans\n",
      "1478 reads identified matching Kiritimatiella glycovorans\n"
     ]
    }
   ],
   "source": [
    "importlib.reload(functions)\n",
    "button = widgets.Button(description=\"Match Reads to Reference Sequences!\",\n",
    "                        layout=widgets.Layout(width='300px',\n",
    "                                             height='50px'))\n",
    "\n",
    "def onbuttonclick(b):\n",
    "    r = functions.mapReadsDisplay(dataset_id.value, '../data/digest.fasta', typ='digest')\n",
    "button.on_click(onbuttonclick)\n",
    "b = display(button)"
   ]
  },
  {
   "cell_type": "markdown",
   "metadata": {},
   "source": [
    "Click on the button below to show how many reads mapped to each digestive bacteria."
   ]
  },
  {
   "cell_type": "code",
   "execution_count": 1,
   "metadata": {},
   "outputs": [
    {
     "ename": "NameError",
     "evalue": "name 'importlib' is not defined",
     "output_type": "error",
     "traceback": [
      "\u001b[0;31m---------------------------------------------------------------------------\u001b[0m",
      "\u001b[0;31mNameError\u001b[0m                                 Traceback (most recent call last)",
      "\u001b[0;32m<ipython-input-1-76c8f2d28dea>\u001b[0m in \u001b[0;36m<module>\u001b[0;34m()\u001b[0m\n\u001b[0;32m----> 1\u001b[0;31m \u001b[0mimportlib\u001b[0m\u001b[0;34m.\u001b[0m\u001b[0mreload\u001b[0m\u001b[0;34m(\u001b[0m\u001b[0mfunctions\u001b[0m\u001b[0;34m)\u001b[0m\u001b[0;34m\u001b[0m\u001b[0m\n\u001b[0m\u001b[1;32m      2\u001b[0m button = widgets.Button(description=\"Count Reads per Microbe\",\n\u001b[1;32m      3\u001b[0m                         layout=widgets.Layout(width='300px',\n\u001b[1;32m      4\u001b[0m                                              height='50px'))\n\u001b[1;32m      5\u001b[0m \u001b[0;34m\u001b[0m\u001b[0m\n",
      "\u001b[0;31mNameError\u001b[0m: name 'importlib' is not defined"
     ]
    }
   ],
   "source": [
    "importlib.reload(functions)\n",
    "button = widgets.Button(description=\"Count Reads per Microbe\",\n",
    "                        layout=widgets.Layout(width='300px',\n",
    "                                             height='50px'))\n",
    "\n",
    "def onbuttonclick(b):\n",
    "    functions.showMappingBar(dataset_id.value, typ='digest')\n",
    "button.on_click(onbuttonclick)\n",
    "b = display(button)"
   ]
  },
  {
   "cell_type": "markdown",
   "metadata": {},
   "source": [
    "And click below to see these results in a table."
   ]
  },
  {
   "cell_type": "code",
   "execution_count": null,
   "metadata": {},
   "outputs": [],
   "source": [
    "importlib.reload(functions)\n",
    "button = widgets.Button(description=\"Show Read Mapping Table\",\n",
    "                        layout=widgets.Layout(width='300px',\n",
    "                                             height='50px'))\n",
    "\n",
    "def onbuttonclick(b):\n",
    "    functions.showMappingTable(dataset_id.value, 1, typ='digest')\n",
    "button.on_click(onbuttonclick)\n",
    "button2 = widgets.Button(description=\"Download Read Mapping Table\",\n",
    "                        layout=widgets.Layout(width='300px',\n",
    "                                             height='50px'))\n",
    "\n",
    "b = display(button)"
   ]
  },
  {
   "cell_type": "markdown",
   "metadata": {},
   "source": [
    "Remember to save your graphs or print them.\n",
    "\n",
    "If you still have time, you can try to make your own graph from any of the dataset by copying and pasting your data onto this site.\n",
    "    \n",
    "[http://www.plot.ly/create](http://plot.ly/create)"
   ]
  },
  {
   "cell_type": "code",
   "execution_count": null,
   "metadata": {},
   "outputs": [],
   "source": []
  }
 ],
 "metadata": {
  "kernelspec": {
   "display_name": "Python 3",
   "language": "python",
   "name": "python3"
  },
  "language_info": {
   "codemirror_mode": {
    "name": "ipython",
    "version": 3
   },
   "file_extension": ".py",
   "mimetype": "text/x-python",
   "name": "python",
   "nbconvert_exporter": "python",
   "pygments_lexer": "ipython3",
   "version": "3.6.3"
  }
 },
 "nbformat": 4,
 "nbformat_minor": 2
}
