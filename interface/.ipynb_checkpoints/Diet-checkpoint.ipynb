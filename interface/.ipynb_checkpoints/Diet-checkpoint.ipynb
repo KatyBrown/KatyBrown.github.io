{
 "cells": [
  {
   "cell_type": "code",
   "execution_count": 1,
   "metadata": {},
   "outputs": [],
   "source": [
    "import pandas as pd\n",
    "import ipywidgets as widgets\n",
    "import importlib\n",
    "import functions\n",
    "% matplotlib inline\n",
    "import IPython.display"
   ]
  },
  {
   "cell_type": "code",
   "execution_count": 2,
   "metadata": {},
   "outputs": [
    {
     "data": {
      "text/html": [
       "<script>\n",
       "code_show=true; \n",
       "function code_toggle() {\n",
       " if (code_show){\n",
       " $('div.input').hide();\n",
       " } else {\n",
       " $('div.input').show();\n",
       " }\n",
       " code_show = !code_show\n",
       "} \n",
       "$( document ).ready(code_toggle);\n",
       "</script>\n",
       "<form action=\"javascript:code_toggle()\"><input type=\"submit\" value=\".\"></form>"
      ],
      "text/plain": [
       "<IPython.core.display.HTML object>"
      ]
     },
     "execution_count": 2,
     "metadata": {},
     "output_type": "execute_result"
    }
   ],
   "source": [
    "from IPython.display import HTML\n",
    "\n",
    "HTML('''<script>\n",
    "code_show=true; \n",
    "function code_toggle() {\n",
    " if (code_show){\n",
    " $('div.input').hide();\n",
    " } else {\n",
    " $('div.input').show();\n",
    " }\n",
    " code_show = !code_show\n",
    "} \n",
    "$( document ).ready(code_toggle);\n",
    "</script>\n",
    "<form action=\"javascript:code_toggle()\"><input type=\"submit\" value=\".\"></form>''')\n"
   ]
  },
  {
   "cell_type": "markdown",
   "metadata": {},
   "source": [
    "## Important: Select your dataset ID in this menu before running the analysis below."
   ]
  },
  {
   "cell_type": "code",
   "execution_count": 12,
   "metadata": {},
   "outputs": [
    {
     "data": {
      "application/vnd.jupyter.widget-view+json": {
       "model_id": "011d32b071f849e1bc298acdf6f670f2",
       "version_major": 2,
       "version_minor": 0
      },
      "text/html": [
       "<p>Failed to display Jupyter Widget of type <code>Dropdown</code>.</p>\n",
       "<p>\n",
       "  If you're reading this message in the Jupyter Notebook or JupyterLab Notebook, it may mean\n",
       "  that the widgets JavaScript is still loading. If this message persists, it\n",
       "  likely means that the widgets JavaScript library is either not installed or\n",
       "  not enabled. See the <a href=\"https://ipywidgets.readthedocs.io/en/stable/user_install.html\">Jupyter\n",
       "  Widgets Documentation</a> for setup instructions.\n",
       "</p>\n",
       "<p>\n",
       "  If you're reading this message in another frontend (for example, a static\n",
       "  rendering on GitHub or <a href=\"https://nbviewer.jupyter.org/\">NBViewer</a>),\n",
       "  it may mean that your frontend doesn't currently support widgets.\n",
       "</p>\n"
      ],
      "text/plain": [
       "Dropdown(options=(1, 2, 3, 4, 5, 6), value=1)"
      ]
     },
     "metadata": {},
     "output_type": "display_data"
    }
   ],
   "source": [
    "dataset_id = widgets.Dropdown(options=range(1, 7))\n",
    "display(dataset_id)"
   ]
  },
  {
   "cell_type": "markdown",
   "metadata": {},
   "source": [
    "# Diet"
   ]
  },
  {
   "cell_type": "markdown",
   "metadata": {},
   "source": [
    "Next, you'll figure out what kind of food your animal has eaten."
   ]
  },
  {
   "cell_type": "markdown",
   "metadata": {},
   "source": [
    "We often do this using **digestive bacteria** - these are helpful bacteria which help our bodies digest food.\n",
    "\n",
    "Different animals need different bacteria.\n",
    "\n",
    "Animals which eat meat need to digest more **protein**\n",
    "\n",
    "Animals which eat plants need to digest more **cellulose**"
   ]
  },
  {
   "cell_type": "markdown",
   "metadata": {},
   "source": [
    "## Identify diet using digestive bacteria"
   ]
  },
  {
   "cell_type": "markdown",
   "metadata": {},
   "source": [
    "In the Data Analysis step we looked for 44 common digestive bacteria in our samples - this will help us find out a lot about the animal's diet."
   ]
  },
  {
   "cell_type": "markdown",
   "metadata": {},
   "source": [
    "The matrix below shows which bacteria are present in some example animals.\n",
    "\n",
    "1 = this animal has this bacterium\n",
    "\n",
    "0 = this animal doesn't have this bacterium"
   ]
  },
  {
   "cell_type": "code",
   "execution_count": 13,
   "metadata": {},
   "outputs": [
    {
     "data": {
      "application/vnd.jupyter.widget-view+json": {
       "model_id": "38950d2c6e1d412bb2645057a58eccbc",
       "version_major": 2,
       "version_minor": 0
      },
      "text/html": [
       "<p>Failed to display Jupyter Widget of type <code>Button</code>.</p>\n",
       "<p>\n",
       "  If you're reading this message in the Jupyter Notebook or JupyterLab Notebook, it may mean\n",
       "  that the widgets JavaScript is still loading. If this message persists, it\n",
       "  likely means that the widgets JavaScript library is either not installed or\n",
       "  not enabled. See the <a href=\"https://ipywidgets.readthedocs.io/en/stable/user_install.html\">Jupyter\n",
       "  Widgets Documentation</a> for setup instructions.\n",
       "</p>\n",
       "<p>\n",
       "  If you're reading this message in another frontend (for example, a static\n",
       "  rendering on GitHub or <a href=\"https://nbviewer.jupyter.org/\">NBViewer</a>),\n",
       "  it may mean that your frontend doesn't currently support widgets.\n",
       "</p>\n"
      ],
      "text/plain": [
       "Button(description='Show table', layout=Layout(height='50px', width='300px'), style=ButtonStyle())"
      ]
     },
     "metadata": {},
     "output_type": "display_data"
    }
   ],
   "source": [
    "matrix = pd.read_csv(\"../data/matrix_db.tsv\", sep=\"\\t\", index_col=0)\n",
    "matrix.columns = [c.replace(\"_\", \" \") for c in matrix.columns]\n",
    "matrix.index = [c.replace(\"_\", \" \") for c in matrix.index.values]\n",
    "matrix[matrix.columns[:-1]].T\n",
    "\n",
    "importlib.reload(functions)\n",
    "button = widgets.Button(description=\"Show table\",\n",
    "                        layout=widgets.Layout(width='300px',\n",
    "                                             height='50px'))\n",
    "\n",
    "def onbuttonclick(b):\n",
    "    r = IPython.display.display(matrix)\n",
    "button.on_click(onbuttonclick)\n",
    "b = display(button)"
   ]
  },
  {
   "cell_type": "markdown",
   "metadata": {},
   "source": [
    "[alternative link](../data/matrix_db.tsv)"
   ]
  },
  {
   "cell_type": "markdown",
   "metadata": {},
   "source": [
    "This is not a very easy way to see the data!\n",
    "\n",
    "Click on the button below to see the data as a graph instead."
   ]
  },
  {
   "cell_type": "code",
   "execution_count": 5,
   "metadata": {},
   "outputs": [
    {
     "data": {
      "application/vnd.jupyter.widget-view+json": {
       "model_id": "b7f184bb8efa48308e72c0c4b5daaaba",
       "version_major": 2,
       "version_minor": 0
      },
      "text/html": [
       "<p>Failed to display Jupyter Widget of type <code>Button</code>.</p>\n",
       "<p>\n",
       "  If you're reading this message in the Jupyter Notebook or JupyterLab Notebook, it may mean\n",
       "  that the widgets JavaScript is still loading. If this message persists, it\n",
       "  likely means that the widgets JavaScript library is either not installed or\n",
       "  not enabled. See the <a href=\"https://ipywidgets.readthedocs.io/en/stable/user_install.html\">Jupyter\n",
       "  Widgets Documentation</a> for setup instructions.\n",
       "</p>\n",
       "<p>\n",
       "  If you're reading this message in another frontend (for example, a static\n",
       "  rendering on GitHub or <a href=\"https://nbviewer.jupyter.org/\">NBViewer</a>),\n",
       "  it may mean that your frontend doesn't currently support widgets.\n",
       "</p>\n"
      ],
      "text/plain": [
       "Button(description='View data as graph', layout=Layout(height='50px', width='300px'), style=ButtonStyle())"
      ]
     },
     "metadata": {},
     "output_type": "display_data"
    }
   ],
   "source": [
    "importlib.reload(functions)\n",
    "button = widgets.Button(description=\"View data as graph\",\n",
    "                        layout=widgets.Layout(width='300px',\n",
    "                                             height='50px'))\n",
    "\n",
    "def onbuttonclick(b):\n",
    "    r = functions.plotMatrix()\n",
    "button.on_click(onbuttonclick)\n",
    "b = display(button)"
   ]
  },
  {
   "cell_type": "markdown",
   "metadata": {},
   "source": [
    "[alternative link](matrix.png)"
   ]
  },
  {
   "cell_type": "markdown",
   "metadata": {},
   "source": [
    "Now it is much easier to see the bacteria present in each species."
   ]
  },
  {
   "cell_type": "markdown",
   "metadata": {},
   "source": [
    "Clicking the button below will add the data from your dataset to this graph - it is preloaded from the Data Analysis step you did earlier."
   ]
  },
  {
   "cell_type": "code",
   "execution_count": 6,
   "metadata": {},
   "outputs": [
    {
     "data": {
      "application/vnd.jupyter.widget-view+json": {
       "model_id": "e302f09d17124b23aaccd4785fcfb1bb",
       "version_major": 2,
       "version_minor": 0
      },
      "text/html": [
       "<p>Failed to display Jupyter Widget of type <code>Button</code>.</p>\n",
       "<p>\n",
       "  If you're reading this message in the Jupyter Notebook or JupyterLab Notebook, it may mean\n",
       "  that the widgets JavaScript is still loading. If this message persists, it\n",
       "  likely means that the widgets JavaScript library is either not installed or\n",
       "  not enabled. See the <a href=\"https://ipywidgets.readthedocs.io/en/stable/user_install.html\">Jupyter\n",
       "  Widgets Documentation</a> for setup instructions.\n",
       "</p>\n",
       "<p>\n",
       "  If you're reading this message in another frontend (for example, a static\n",
       "  rendering on GitHub or <a href=\"https://nbviewer.jupyter.org/\">NBViewer</a>),\n",
       "  it may mean that your frontend doesn't currently support widgets.\n",
       "</p>\n"
      ],
      "text/plain": [
       "Button(description='Add dataset to graph', layout=Layout(height='50px', width='300px'), style=ButtonStyle())"
      ]
     },
     "metadata": {},
     "output_type": "display_data"
    }
   ],
   "source": [
    "importlib.reload(functions)\n",
    "button = widgets.Button(description=\"Add dataset to graph\",\n",
    "                        layout=widgets.Layout(width='300px',\n",
    "                                             height='50px'))\n",
    "\n",
    "def onbuttonclick(b):\n",
    "    r = functions.plotMatrix(dataset=dataset_id.value)\n",
    "button.on_click(onbuttonclick)\n",
    "b = display(button)"
   ]
  },
  {
   "cell_type": "markdown",
   "metadata": {},
   "source": [
    "[alternative link dataset 1](1_matrix.png)\n",
    "[alternative link dataset 2](2_matrix.png)\n",
    "[alternative link dataset 3](3_matrix.png)\n",
    "[alternative link dataset 4](4_matrix.png)\n",
    "[alternative link dataset 5](5_matrix.png)\n",
    "[alternative link dataset 6](6_matrix.png)"
   ]
  },
  {
   "cell_type": "markdown",
   "metadata": {},
   "source": [
    "This gives us a good idea about whether our animals are carnivores, herbivores or omnivores."
   ]
  },
  {
   "cell_type": "markdown",
   "metadata": {},
   "source": [
    "It is also possible to look at this information on a scatter plot - points which are nearer together on the graph share more digestive bacteria with each other.\n",
    "\n",
    "Click on the button below to view the data as a scatter plot."
   ]
  },
  {
   "cell_type": "code",
   "execution_count": 7,
   "metadata": {},
   "outputs": [
    {
     "data": {
      "application/vnd.jupyter.widget-view+json": {
       "model_id": "e6dff7dad61d467287460f7f354f05d6",
       "version_major": 2,
       "version_minor": 0
      },
      "text/html": [
       "<p>Failed to display Jupyter Widget of type <code>Button</code>.</p>\n",
       "<p>\n",
       "  If you're reading this message in the Jupyter Notebook or JupyterLab Notebook, it may mean\n",
       "  that the widgets JavaScript is still loading. If this message persists, it\n",
       "  likely means that the widgets JavaScript library is either not installed or\n",
       "  not enabled. See the <a href=\"https://ipywidgets.readthedocs.io/en/stable/user_install.html\">Jupyter\n",
       "  Widgets Documentation</a> for setup instructions.\n",
       "</p>\n",
       "<p>\n",
       "  If you're reading this message in another frontend (for example, a static\n",
       "  rendering on GitHub or <a href=\"https://nbviewer.jupyter.org/\">NBViewer</a>),\n",
       "  it may mean that your frontend doesn't currently support widgets.\n",
       "</p>\n"
      ],
      "text/plain": [
       "Button(description='Show scatterplot', layout=Layout(height='50px', width='300px'), style=ButtonStyle())"
      ]
     },
     "metadata": {},
     "output_type": "display_data"
    }
   ],
   "source": [
    "importlib.reload(functions)\n",
    "button = widgets.Button(description=\"Show scatterplot\",\n",
    "                        layout=widgets.Layout(width='300px',\n",
    "                                             height='50px'))\n",
    "\n",
    "def onbuttonclick(b):\n",
    "    r = functions.plotPCA(dataset=dataset_id.value)\n",
    "button.on_click(onbuttonclick)\n",
    "b = display(button)"
   ]
  },
  {
   "cell_type": "markdown",
   "metadata": {},
   "source": [
    "[alternative link dataset 1](1_scatter.png)\n",
    "[alternative link dataset 2](2_scatter.png)\n",
    "[alternative link dataset 3](3_scatter.png)\n",
    "[alternative link dataset 4](4_scatter.png)\n",
    "[alternative link dataset 5](5_scatter.png)\n",
    "[alternative link dataset 6](6_scatter.png)"
   ]
  },
  {
   "cell_type": "markdown",
   "metadata": {},
   "source": [
    "# Look for viruses from food"
   ]
  },
  {
   "cell_type": "markdown",
   "metadata": {},
   "source": [
    "By now you should have a good idea if your animal is a carnivore, herbivore or omnivore."
   ]
  },
  {
   "cell_type": "markdown",
   "metadata": {},
   "source": [
    "You can now screen your sample for viruses the animal might have picked up from their food.\n",
    "\n",
    "If the sample is a herbivore, you only need to look for viruses which are common in plants.\n",
    "\n",
    "If the sample is a carnivore, you only need to look for viruses which are common in meat and fish.\n",
    "\n",
    "If the sample is an omnivore, or if you don't know, you can look for both."
   ]
  },
  {
   "cell_type": "markdown",
   "metadata": {},
   "source": [
    "Choose below if you think your sample is a carnivore, herbivore or omnivore and the app will map to some viruses from that type of food."
   ]
  },
  {
   "cell_type": "code",
   "execution_count": 8,
   "metadata": {},
   "outputs": [
    {
     "data": {
      "application/vnd.jupyter.widget-view+json": {
       "model_id": "085e874af0e2414c9dcdd22194d80721",
       "version_major": 2,
       "version_minor": 0
      },
      "text/html": [
       "<p>Failed to display Jupyter Widget of type <code>VBox</code>.</p>\n",
       "<p>\n",
       "  If you're reading this message in the Jupyter Notebook or JupyterLab Notebook, it may mean\n",
       "  that the widgets JavaScript is still loading. If this message persists, it\n",
       "  likely means that the widgets JavaScript library is either not installed or\n",
       "  not enabled. See the <a href=\"https://ipywidgets.readthedocs.io/en/stable/user_install.html\">Jupyter\n",
       "  Widgets Documentation</a> for setup instructions.\n",
       "</p>\n",
       "<p>\n",
       "  If you're reading this message in another frontend (for example, a static\n",
       "  rendering on GitHub or <a href=\"https://nbviewer.jupyter.org/\">NBViewer</a>),\n",
       "  it may mean that your frontend doesn't currently support widgets.\n",
       "</p>\n"
      ],
      "text/plain": [
       "VBox(children=(Dropdown(options=('carnivore', 'herbivore', 'omnivore'), value='carnivore'), Button(description='Match Reads to Reference Sequences!', layout=Layout(height='50px', width='300px'), style=ButtonStyle())))"
      ]
     },
     "metadata": {},
     "output_type": "display_data"
    }
   ],
   "source": [
    "importlib.reload(functions)\n",
    "button = widgets.Button(description=\"Match Reads to Reference Sequences!\",\n",
    "                        layout=widgets.Layout(width='300px',\n",
    "                                             height='50px'))\n",
    "\n",
    "diet = widgets.Dropdown(options=['carnivore', 'herbivore', 'omnivore'])\n",
    "\n",
    "\n",
    "def onbuttonclick(b):\n",
    "    r = functions.mapReadsDisplay(dataset_id.value, '../data/food.fasta', typ='food', diet=diet.value)\n",
    "button.on_click(onbuttonclick)\n",
    "b = display(widgets.VBox([diet, button]))\n"
   ]
  },
  {
   "cell_type": "markdown",
   "metadata": {},
   "source": [
    "Here are the results in a table"
   ]
  },
  {
   "cell_type": "code",
   "execution_count": 9,
   "metadata": {},
   "outputs": [
    {
     "data": {
      "application/vnd.jupyter.widget-view+json": {
       "model_id": "651a6a8a45b7472883700c3719942cce",
       "version_major": 2,
       "version_minor": 0
      },
      "text/html": [
       "<p>Failed to display Jupyter Widget of type <code>Button</code>.</p>\n",
       "<p>\n",
       "  If you're reading this message in the Jupyter Notebook or JupyterLab Notebook, it may mean\n",
       "  that the widgets JavaScript is still loading. If this message persists, it\n",
       "  likely means that the widgets JavaScript library is either not installed or\n",
       "  not enabled. See the <a href=\"https://ipywidgets.readthedocs.io/en/stable/user_install.html\">Jupyter\n",
       "  Widgets Documentation</a> for setup instructions.\n",
       "</p>\n",
       "<p>\n",
       "  If you're reading this message in another frontend (for example, a static\n",
       "  rendering on GitHub or <a href=\"https://nbviewer.jupyter.org/\">NBViewer</a>),\n",
       "  it may mean that your frontend doesn't currently support widgets.\n",
       "</p>\n"
      ],
      "text/plain": [
       "Button(description='Show table', layout=Layout(height='50px', width='300px'), style=ButtonStyle())"
      ]
     },
     "metadata": {},
     "output_type": "display_data"
    }
   ],
   "source": [
    "importlib.reload(functions)\n",
    "button = widgets.Button(description=\"Show table\",\n",
    "                        layout=widgets.Layout(width='300px',\n",
    "                                             height='50px'))\n",
    "\n",
    "def onbuttonclick(b):\n",
    "    r = functions.showMappingTable(dataset_id.value, option=1, typ='food', diet=diet.value)\n",
    "button.on_click(onbuttonclick)\n",
    "b = display(button)"
   ]
  },
  {
   "cell_type": "markdown",
   "metadata": {},
   "source": [
    "[alternative link dataset 1](1_mapping_table_food.tsv), \n",
    "[alternative link dataset 2](2_mapping_table_food.tsv), \n",
    "[alternative link dataset 3](3_mapping_table_food.tsv), \n",
    "[alternative link dataset 4](4_mapping_table_food.tsv), \n",
    "[alternative link dataset 5](5_mapping_table_food.tsv), \n",
    "[alternative link dataset 6](6_mapping_table_food.tsv)"
   ]
  },
  {
   "cell_type": "markdown",
   "metadata": {},
   "source": [
    "For all of these viruses, the host is well known - the host species for the viruses will be shown if you click below."
   ]
  },
  {
   "cell_type": "code",
   "execution_count": null,
   "metadata": {},
   "outputs": [],
   "source": []
  },
  {
   "cell_type": "code",
   "execution_count": 10,
   "metadata": {},
   "outputs": [
    {
     "data": {
      "application/vnd.jupyter.widget-view+json": {
       "model_id": "c6d98bad9a5a4c75b0af79bc74f1ce08",
       "version_major": 2,
       "version_minor": 0
      },
      "text/html": [
       "<p>Failed to display Jupyter Widget of type <code>Button</code>.</p>\n",
       "<p>\n",
       "  If you're reading this message in the Jupyter Notebook or JupyterLab Notebook, it may mean\n",
       "  that the widgets JavaScript is still loading. If this message persists, it\n",
       "  likely means that the widgets JavaScript library is either not installed or\n",
       "  not enabled. See the <a href=\"https://ipywidgets.readthedocs.io/en/stable/user_install.html\">Jupyter\n",
       "  Widgets Documentation</a> for setup instructions.\n",
       "</p>\n",
       "<p>\n",
       "  If you're reading this message in another frontend (for example, a static\n",
       "  rendering on GitHub or <a href=\"https://nbviewer.jupyter.org/\">NBViewer</a>),\n",
       "  it may mean that your frontend doesn't currently support widgets.\n",
       "</p>\n"
      ],
      "text/plain": [
       "Button(description='Show table', layout=Layout(height='50px', width='300px'), style=ButtonStyle())"
      ]
     },
     "metadata": {},
     "output_type": "display_data"
    }
   ],
   "source": [
    "importlib.reload(functions)\n",
    "\n",
    "button = widgets.Button(description=\"Show table\",\n",
    "                        layout=widgets.Layout(width='300px',\n",
    "                                             height='50px'))\n",
    "\n",
    "def onbuttonclick(b):\n",
    "    r = functions.getFoodTable(diet.value)\n",
    "button.on_click(onbuttonclick)\n",
    "b = display(button)"
   ]
  },
  {
   "cell_type": "markdown",
   "metadata": {},
   "source": [
    "[alternative link](food_hosts.tsv)"
   ]
  },
  {
   "cell_type": "markdown",
   "metadata": {},
   "source": [
    "Therefore, we can just count how many viruses we saw from each possible food."
   ]
  },
  {
   "cell_type": "code",
   "execution_count": 11,
   "metadata": {},
   "outputs": [
    {
     "data": {
      "application/vnd.jupyter.widget-view+json": {
       "model_id": "391cc1f4db6f479e95431221eda2f322",
       "version_major": 2,
       "version_minor": 0
      },
      "text/html": [
       "<p>Failed to display Jupyter Widget of type <code>Button</code>.</p>\n",
       "<p>\n",
       "  If you're reading this message in the Jupyter Notebook or JupyterLab Notebook, it may mean\n",
       "  that the widgets JavaScript is still loading. If this message persists, it\n",
       "  likely means that the widgets JavaScript library is either not installed or\n",
       "  not enabled. See the <a href=\"https://ipywidgets.readthedocs.io/en/stable/user_install.html\">Jupyter\n",
       "  Widgets Documentation</a> for setup instructions.\n",
       "</p>\n",
       "<p>\n",
       "  If you're reading this message in another frontend (for example, a static\n",
       "  rendering on GitHub or <a href=\"https://nbviewer.jupyter.org/\">NBViewer</a>),\n",
       "  it may mean that your frontend doesn't currently support widgets.\n",
       "</p>\n"
      ],
      "text/plain": [
       "Button(description='Show Graph', layout=Layout(height='50px', width='300px'), style=ButtonStyle())"
      ]
     },
     "metadata": {},
     "output_type": "display_data"
    }
   ],
   "source": [
    "importlib.reload(functions)\n",
    "button = widgets.Button(description=\"Show Graph\",\n",
    "                        layout=widgets.Layout(width='300px',\n",
    "                                             height='50px'))\n",
    "\n",
    "\n",
    "def onbuttonclick(b):\n",
    "    r = functions.plotFood(dataset_id.value, diet.value)\n",
    "button.on_click(onbuttonclick)\n",
    "b = display(button)"
   ]
  },
  {
   "cell_type": "markdown",
   "metadata": {},
   "source": [
    "[alternative link dataset 1](food_d1.png), \n",
    "[alternative link dataset 2](food_d2.png), \n",
    "[alternative link dataset 3](food_d3.png), \n",
    "[alternative link dataset 4](food_d4.png), \n",
    "[alternative link dataset 5](food_d5.png), \n",
    "[alternative link dataset 6](food_d6.png)"
   ]
  },
  {
   "cell_type": "markdown",
   "metadata": {},
   "source": [
    "From this chart, you should get a pretty good idea what your animal species has been eating!"
   ]
  },
  {
   "cell_type": "markdown",
   "metadata": {},
   "source": [
    "Remember to save or print your graphs."
   ]
  },
  {
   "cell_type": "code",
   "execution_count": null,
   "metadata": {},
   "outputs": [],
   "source": []
  }
 ],
 "metadata": {
  "kernelspec": {
   "display_name": "Python 3",
   "language": "python",
   "name": "python3"
  },
  "language_info": {
   "codemirror_mode": {
    "name": "ipython",
    "version": 3
   },
   "file_extension": ".py",
   "mimetype": "text/x-python",
   "name": "python",
   "nbconvert_exporter": "python",
   "pygments_lexer": "ipython3",
   "version": "3.6.3"
  }
 },
 "nbformat": 4,
 "nbformat_minor": 2
}
