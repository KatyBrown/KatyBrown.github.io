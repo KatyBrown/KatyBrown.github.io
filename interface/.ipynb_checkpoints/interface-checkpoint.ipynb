{
 "cells": [
  {
   "cell_type": "markdown",
   "metadata": {},
   "source": [
    "# Big Data Tools"
   ]
  },
  {
   "cell_type": "markdown",
   "metadata": {},
   "source": [
    "## Part 1\n",
    "\n",
    "[Data Analysis](Data_Analysis.ipynb) ([alternative - poor connection](Data_Analysis.html))\n",
    "\n",
    "\n",
    "## Part 2\n",
    "[Geography](Geography.ipynb) ([alternative - poor connection](Geography.html))\n",
    "\n",
    "[Diet](Diet.ipynb) ([alternative - poor connection](Diet.html))\n",
    "\n",
    "[Resources](Resources.ipynb) ([alternative - poor connection](Resources.html))\n"
   ]
  }
 ],
 "metadata": {
  "kernelspec": {
   "display_name": "Python 3",
   "language": "python",
   "name": "python3"
  },
  "language_info": {
   "codemirror_mode": {
    "name": "ipython",
    "version": 3
   },
   "file_extension": ".py",
   "mimetype": "text/x-python",
   "name": "python",
   "nbconvert_exporter": "python",
   "pygments_lexer": "ipython3",
   "version": "3.6.3"
  }
 },
 "nbformat": 4,
 "nbformat_minor": 2
}
