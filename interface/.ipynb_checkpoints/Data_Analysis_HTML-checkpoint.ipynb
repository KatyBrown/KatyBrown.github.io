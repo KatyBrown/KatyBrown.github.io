{
 "cells": [
  {
   "cell_type": "code",
   "execution_count": 2,
   "metadata": {},
   "outputs": [],
   "source": [
    "%matplotlib inline\n",
    "import functions\n",
    "import ipywidgets as widgets"
   ]
  },
  {
   "cell_type": "code",
   "execution_count": 3,
   "metadata": {},
   "outputs": [
    {
     "data": {
      "application/javascript": [
       "IPython.OutputArea.prototype._should_scroll = function(lines) {\n",
       "    return false;\n",
       "}"
      ],
      "text/plain": [
       "<IPython.core.display.Javascript object>"
      ]
     },
     "metadata": {},
     "output_type": "display_data"
    }
   ],
   "source": [
    "%%javascript\n",
    "IPython.OutputArea.prototype._should_scroll = function(lines) {\n",
    "    return false;\n",
    "}"
   ]
  },
  {
   "cell_type": "code",
   "execution_count": 4,
   "metadata": {},
   "outputs": [],
   "source": [
    "import importlib\n",
    "importlib.reload(functions)\n",
    "m = functions.getPathNames()"
   ]
  },
  {
   "cell_type": "markdown",
   "metadata": {},
   "source": [
    "This app will help you analyse your next generation sequencing data.\n",
    "\n",
    "You might want to use some of the graphs for your infographic later.  If you want to save an image, right click on it and choose \"Save Image As\"."
   ]
  },
  {
   "cell_type": "markdown",
   "metadata": {},
   "source": [
    "## Important: Select your dataset ID in this menu before running the analysis below."
   ]
  },
  {
   "cell_type": "code",
   "execution_count": 5,
   "metadata": {},
   "outputs": [
    {
     "data": {
      "application/vnd.jupyter.widget-view+json": {
       "model_id": "9cea14f94de64e3499881d6c45595449",
       "version_major": 2,
       "version_minor": 0
      },
      "text/html": [
       "<p>Failed to display Jupyter Widget of type <code>Dropdown</code>.</p>\n",
       "<p>\n",
       "  If you're reading this message in the Jupyter Notebook or JupyterLab Notebook, it may mean\n",
       "  that the widgets JavaScript is still loading. If this message persists, it\n",
       "  likely means that the widgets JavaScript library is either not installed or\n",
       "  not enabled. See the <a href=\"https://ipywidgets.readthedocs.io/en/stable/user_install.html\">Jupyter\n",
       "  Widgets Documentation</a> for setup instructions.\n",
       "</p>\n",
       "<p>\n",
       "  If you're reading this message in another frontend (for example, a static\n",
       "  rendering on GitHub or <a href=\"https://nbviewer.jupyter.org/\">NBViewer</a>),\n",
       "  it may mean that your frontend doesn't currently support widgets.\n",
       "</p>\n"
      ],
      "text/plain": [
       "Dropdown(options=(1, 2, 3, 4, 5, 6), value=1)"
      ]
     },
     "metadata": {},
     "output_type": "display_data"
    }
   ],
   "source": [
    "dataset_id = widgets.Dropdown(options=range(1, 7))\n",
    "dataset_id"
   ]
  },
  {
   "cell_type": "code",
   "execution_count": null,
   "metadata": {},
   "outputs": [],
   "source": []
  },
  {
   "cell_type": "markdown",
   "metadata": {},
   "source": [
    "## Examine the data"
   ]
  },
  {
   "cell_type": "markdown",
   "metadata": {},
   "source": [
    "Your data consists of a set of 10,000 next generation sequencing **reads**.\n",
    "\n",
    "Your job is to find out as much as you can about the animal the reads come from.\n",
    "\n",
    "First, you need to look at your data.\n",
    "\n",
    "Click on the button below to view 50 random reads from your data."
   ]
  },
  {
   "cell_type": "code",
   "execution_count": null,
   "metadata": {},
   "outputs": [],
   "source": []
  },
  {
   "cell_type": "code",
   "execution_count": 5,
   "metadata": {},
   "outputs": [
    {
     "data": {
      "application/vnd.jupyter.widget-view+json": {
       "model_id": "8c73b59b26684c1c9998cb97678b7b67",
       "version_major": 2,
       "version_minor": 0
      },
      "text/html": [
       "<p>Failed to display Jupyter Widget of type <code>Button</code>.</p>\n",
       "<p>\n",
       "  If you're reading this message in the Jupyter Notebook or JupyterLab Notebook, it may mean\n",
       "  that the widgets JavaScript is still loading. If this message persists, it\n",
       "  likely means that the widgets JavaScript library is either not installed or\n",
       "  not enabled. See the <a href=\"https://ipywidgets.readthedocs.io/en/stable/user_install.html\">Jupyter\n",
       "  Widgets Documentation</a> for setup instructions.\n",
       "</p>\n",
       "<p>\n",
       "  If you're reading this message in another frontend (for example, a static\n",
       "  rendering on GitHub or <a href=\"https://nbviewer.jupyter.org/\">NBViewer</a>),\n",
       "  it may mean that your frontend doesn't currently support widgets.\n",
       "</p>\n"
      ],
      "text/plain": [
       "Button(description='View 50 Reads', layout=Layout(height='50px', width='300px'), style=ButtonStyle())"
      ]
     },
     "metadata": {},
     "output_type": "display_data"
    }
   ],
   "source": [
    "importlib.reload(functions)\n",
    "button = widgets.Button(description=\"View 50 Reads\",\n",
    "                        layout=widgets.Layout(width='300px',\n",
    "                                             height='50px'))\n",
    "\n",
    "def onbuttonclick(b):\n",
    "    functions.sampleReads(functions.FastaToDict(\"../data/sample_%s_reads.fasta\" % dataset_id.value), 50)\n",
    "button.on_click(onbuttonclick)\n",
    "b = display(button)"
   ]
  },
  {
   "cell_type": "markdown",
   "metadata": {},
   "source": [
    "If you want to see all of your reads, click here."
   ]
  },
  {
   "cell_type": "code",
   "execution_count": 6,
   "metadata": {},
   "outputs": [
    {
     "data": {
      "application/vnd.jupyter.widget-view+json": {
       "model_id": "a533cd3366344ae4b4c98e1c09e7f9cd",
       "version_major": 2,
       "version_minor": 0
      },
      "text/html": [
       "<p>Failed to display Jupyter Widget of type <code>Button</code>.</p>\n",
       "<p>\n",
       "  If you're reading this message in the Jupyter Notebook or JupyterLab Notebook, it may mean\n",
       "  that the widgets JavaScript is still loading. If this message persists, it\n",
       "  likely means that the widgets JavaScript library is either not installed or\n",
       "  not enabled. See the <a href=\"https://ipywidgets.readthedocs.io/en/stable/user_install.html\">Jupyter\n",
       "  Widgets Documentation</a> for setup instructions.\n",
       "</p>\n",
       "<p>\n",
       "  If you're reading this message in another frontend (for example, a static\n",
       "  rendering on GitHub or <a href=\"https://nbviewer.jupyter.org/\">NBViewer</a>),\n",
       "  it may mean that your frontend doesn't currently support widgets.\n",
       "</p>\n"
      ],
      "text/plain": [
       "Button(description='View All Reads', layout=Layout(height='50px', width='300px'), style=ButtonStyle())"
      ]
     },
     "metadata": {},
     "output_type": "display_data"
    }
   ],
   "source": [
    "importlib.reload(functions)\n",
    "button = widgets.Button(description=\"View All Reads\",\n",
    "                        layout=widgets.Layout(width='300px',\n",
    "                                             height='50px'))\n",
    "\n",
    "def onbuttonclick(b):\n",
    "    functions.goToReads(dataset_id.value)\n",
    "button.on_click(onbuttonclick)\n",
    "b = display(button)"
   ]
  },
  {
   "cell_type": "markdown",
   "metadata": {},
   "source": [
    "## Search your data"
   ]
  },
  {
   "cell_type": "markdown",
   "metadata": {},
   "source": [
    "It is difficult to find anything out about your data just from looking at it!\n",
    "\n",
    "Instead, we can start to search for sequences which look similar to different reference sequences."
   ]
  },
  {
   "cell_type": "markdown",
   "metadata": {},
   "source": [
    "### Research the Reference Microbes\n",
    "\n",
    "First, you will search in your sample for each of 20 microbes which can cause disease in some animals.\n",
    "\n",
    "You can find out about these microbes by selecting them in the menu below and by searching for them online."
   ]
  },
  {
   "cell_type": "code",
   "execution_count": 7,
   "metadata": {
    "scrolled": false
   },
   "outputs": [
    {
     "data": {
      "application/vnd.jupyter.widget-view+json": {
       "model_id": "bc45d2d9f3be4dbf89ac984c006fd261",
       "version_major": 2,
       "version_minor": 0
      },
      "text/html": [
       "<p>Failed to display Jupyter Widget of type <code>interactive</code>.</p>\n",
       "<p>\n",
       "  If you're reading this message in the Jupyter Notebook or JupyterLab Notebook, it may mean\n",
       "  that the widgets JavaScript is still loading. If this message persists, it\n",
       "  likely means that the widgets JavaScript library is either not installed or\n",
       "  not enabled. See the <a href=\"https://ipywidgets.readthedocs.io/en/stable/user_install.html\">Jupyter\n",
       "  Widgets Documentation</a> for setup instructions.\n",
       "</p>\n",
       "<p>\n",
       "  If you're reading this message in another frontend (for example, a static\n",
       "  rendering on GitHub or <a href=\"https://nbviewer.jupyter.org/\">NBViewer</a>),\n",
       "  it may mean that your frontend doesn't currently support widgets.\n",
       "</p>\n"
      ],
      "text/plain": [
       "interactive(children=(Dropdown(description='microbe', options=('Select option', 'Anaplasma phagocytophilum', 'Bartonella henselae', 'Bartonella vinsonii', 'Borna disease virus', 'Bovine leukemia virus', 'Brucella abortus', 'Brucella suis', 'Canine parvovirus', 'Classical swine fever virus', 'Equine infectious anemia virus', 'Escherichia coli', 'Feline leukemia virus', 'Foot and mouth disease virus', 'Hepatitis e virus', 'Influenza a virus', 'Mycoplasma haemofelis', 'Neorickettsia risticii', 'Rabies lyssavirus', 'Torque teno sus virus', 'Visna virus'), value='Select option'), Output()), _dom_classes=('widget-interact',))"
      ]
     },
     "metadata": {},
     "output_type": "display_data"
    }
   ],
   "source": [
    "importlib.reload(functions)\n",
    "M = functions.getDropdown('microbe_name', microbes=m)\n",
    "w = widgets.interact(functions.plotRefSeq, microbe=M)"
   ]
  },
  {
   "cell_type": "markdown",
   "metadata": {},
   "source": [
    "### Match your reads to the reference data"
   ]
  },
  {
   "cell_type": "markdown",
   "metadata": {},
   "source": [
    "We can now look if any of your reads match any of these known microbes."
   ]
  },
  {
   "cell_type": "code",
   "execution_count": 18,
   "metadata": {},
   "outputs": [
    {
     "data": {
      "application/vnd.jupyter.widget-view+json": {
       "model_id": "f3823c2bfc7345a39ade89d2e3d14d2b",
       "version_major": 2,
       "version_minor": 0
      },
      "text/html": [
       "<p>Failed to display Jupyter Widget of type <code>Button</code>.</p>\n",
       "<p>\n",
       "  If you're reading this message in the Jupyter Notebook or JupyterLab Notebook, it may mean\n",
       "  that the widgets JavaScript is still loading. If this message persists, it\n",
       "  likely means that the widgets JavaScript library is either not installed or\n",
       "  not enabled. See the <a href=\"https://ipywidgets.readthedocs.io/en/stable/user_install.html\">Jupyter\n",
       "  Widgets Documentation</a> for setup instructions.\n",
       "</p>\n",
       "<p>\n",
       "  If you're reading this message in another frontend (for example, a static\n",
       "  rendering on GitHub or <a href=\"https://nbviewer.jupyter.org/\">NBViewer</a>),\n",
       "  it may mean that your frontend doesn't currently support widgets.\n",
       "</p>\n"
      ],
      "text/plain": [
       "Button(description='Match Reads to Reference Sequences!', layout=Layout(height='50px', width='300px'), style=ButtonStyle())"
      ]
     },
     "metadata": {},
     "output_type": "display_data"
    },
    {
     "name": "stdout",
     "output_type": "stream",
     "text": [
      "Loading data....\n",
      "\n",
      "Loaded 10,000 reads\n",
      "Mapping reads...\n",
      "\n",
      "1 / 20: Mapping reads to Feline leukemia virus\n",
      "4347 reads identified matching Feline leukemia virus\n"
     ]
    }
   ],
   "source": [
    "importlib.reload(functions)\n",
    "button = widgets.Button(description=\"Match Reads to Reference Sequences!\",\n",
    "                        layout=widgets.Layout(width='300px',\n",
    "                                             height='50px'))\n",
    "\n",
    "def onbuttonclick(b):\n",
    "    r = functions.mapReadsDisplay(dataset_id.value, '../data/references.fasta')\n",
    "button.on_click(onbuttonclick)\n",
    "b = display(button)"
   ]
  },
  {
   "cell_type": "markdown",
   "metadata": {},
   "source": [
    "Now your reads are mapped to the 20 reference microbe genomes.\n",
    "\n",
    "Click on the button below to view how many results you found per reference genome."
   ]
  },
  {
   "cell_type": "code",
   "execution_count": 9,
   "metadata": {},
   "outputs": [
    {
     "data": {
      "application/vnd.jupyter.widget-view+json": {
       "model_id": "aa26320f161d48e79c40f95f0a6be3f7",
       "version_major": 2,
       "version_minor": 0
      },
      "text/html": [
       "<p>Failed to display Jupyter Widget of type <code>Button</code>.</p>\n",
       "<p>\n",
       "  If you're reading this message in the Jupyter Notebook or JupyterLab Notebook, it may mean\n",
       "  that the widgets JavaScript is still loading. If this message persists, it\n",
       "  likely means that the widgets JavaScript library is either not installed or\n",
       "  not enabled. See the <a href=\"https://ipywidgets.readthedocs.io/en/stable/user_install.html\">Jupyter\n",
       "  Widgets Documentation</a> for setup instructions.\n",
       "</p>\n",
       "<p>\n",
       "  If you're reading this message in another frontend (for example, a static\n",
       "  rendering on GitHub or <a href=\"https://nbviewer.jupyter.org/\">NBViewer</a>),\n",
       "  it may mean that your frontend doesn't currently support widgets.\n",
       "</p>\n"
      ],
      "text/plain": [
       "Button(description='Count Reads per Microbe', layout=Layout(height='50px', width='300px'), style=ButtonStyle())"
      ]
     },
     "metadata": {},
     "output_type": "display_data"
    }
   ],
   "source": [
    "importlib.reload(functions)\n",
    "button = widgets.Button(description=\"Count Reads per Microbe\",\n",
    "                        layout=widgets.Layout(width='300px',\n",
    "                                             height='50px'))\n",
    "\n",
    "def onbuttonclick(b):\n",
    "    functions.showMappingBar(dataset_id.value)\n",
    "button.on_click(onbuttonclick)\n",
    "b = display(button)"
   ]
  },
  {
   "cell_type": "markdown",
   "metadata": {},
   "source": [
    "You can also look where on the microbe reference genome your reads were found."
   ]
  },
  {
   "cell_type": "code",
   "execution_count": 10,
   "metadata": {},
   "outputs": [
    {
     "data": {
      "application/vnd.jupyter.widget-view+json": {
       "model_id": "1e4fd9ad15864bc9ab499dfa62628c37",
       "version_major": 2,
       "version_minor": 0
      },
      "text/html": [
       "<p>Failed to display Jupyter Widget of type <code>Button</code>.</p>\n",
       "<p>\n",
       "  If you're reading this message in the Jupyter Notebook or JupyterLab Notebook, it may mean\n",
       "  that the widgets JavaScript is still loading. If this message persists, it\n",
       "  likely means that the widgets JavaScript library is either not installed or\n",
       "  not enabled. See the <a href=\"https://ipywidgets.readthedocs.io/en/stable/user_install.html\">Jupyter\n",
       "  Widgets Documentation</a> for setup instructions.\n",
       "</p>\n",
       "<p>\n",
       "  If you're reading this message in another frontend (for example, a static\n",
       "  rendering on GitHub or <a href=\"https://nbviewer.jupyter.org/\">NBViewer</a>),\n",
       "  it may mean that your frontend doesn't currently support widgets.\n",
       "</p>\n"
      ],
      "text/plain": [
       "Button(description='Show Read Mapping', layout=Layout(height='50px', width='300px'), style=ButtonStyle())"
      ]
     },
     "metadata": {},
     "output_type": "display_data"
    }
   ],
   "source": [
    "importlib.reload(functions)\n",
    "button = widgets.Button(description=\"Show Read Mapping\",\n",
    "                        layout=widgets.Layout(width='300px',\n",
    "                                             height='50px'))\n",
    "\n",
    "def onbuttonclick(b):\n",
    "    functions.showMapping(dataset_id.value)\n",
    "button.on_click(onbuttonclick)\n",
    "b = display(button)"
   ]
  },
  {
   "cell_type": "markdown",
   "metadata": {},
   "source": [
    "Finally, here are your results in a table.  You can download them by clicking the button and saving the output file.\n"
   ]
  },
  {
   "cell_type": "code",
   "execution_count": 11,
   "metadata": {},
   "outputs": [
    {
     "data": {
      "application/vnd.jupyter.widget-view+json": {
       "model_id": "60e5e04ed8ba4f2c8b76d366cf8d679c",
       "version_major": 2,
       "version_minor": 0
      },
      "text/html": [
       "<p>Failed to display Jupyter Widget of type <code>Button</code>.</p>\n",
       "<p>\n",
       "  If you're reading this message in the Jupyter Notebook or JupyterLab Notebook, it may mean\n",
       "  that the widgets JavaScript is still loading. If this message persists, it\n",
       "  likely means that the widgets JavaScript library is either not installed or\n",
       "  not enabled. See the <a href=\"https://ipywidgets.readthedocs.io/en/stable/user_install.html\">Jupyter\n",
       "  Widgets Documentation</a> for setup instructions.\n",
       "</p>\n",
       "<p>\n",
       "  If you're reading this message in another frontend (for example, a static\n",
       "  rendering on GitHub or <a href=\"https://nbviewer.jupyter.org/\">NBViewer</a>),\n",
       "  it may mean that your frontend doesn't currently support widgets.\n",
       "</p>\n"
      ],
      "text/plain": [
       "Button(description='Show Read Mapping Table', layout=Layout(height='50px', width='300px'), style=ButtonStyle())"
      ]
     },
     "metadata": {},
     "output_type": "display_data"
    },
    {
     "data": {
      "application/vnd.jupyter.widget-view+json": {
       "model_id": "7bb6a3a023e74c9b9a1abffea5db45f3",
       "version_major": 2,
       "version_minor": 0
      },
      "text/html": [
       "<p>Failed to display Jupyter Widget of type <code>Button</code>.</p>\n",
       "<p>\n",
       "  If you're reading this message in the Jupyter Notebook or JupyterLab Notebook, it may mean\n",
       "  that the widgets JavaScript is still loading. If this message persists, it\n",
       "  likely means that the widgets JavaScript library is either not installed or\n",
       "  not enabled. See the <a href=\"https://ipywidgets.readthedocs.io/en/stable/user_install.html\">Jupyter\n",
       "  Widgets Documentation</a> for setup instructions.\n",
       "</p>\n",
       "<p>\n",
       "  If you're reading this message in another frontend (for example, a static\n",
       "  rendering on GitHub or <a href=\"https://nbviewer.jupyter.org/\">NBViewer</a>),\n",
       "  it may mean that your frontend doesn't currently support widgets.\n",
       "</p>\n"
      ],
      "text/plain": [
       "Button(description='Download Read Mapping Table', layout=Layout(height='50px', width='300px'), style=ButtonStyle())"
      ]
     },
     "metadata": {},
     "output_type": "display_data"
    }
   ],
   "source": [
    "importlib.reload(functions)\n",
    "button = widgets.Button(description=\"Show Read Mapping Table\",\n",
    "                        layout=widgets.Layout(width='300px',\n",
    "                                             height='50px'))\n",
    "\n",
    "def onbuttonclick(b):\n",
    "    functions.showMappingTable(dataset_id.value, 1)\n",
    "button.on_click(onbuttonclick)\n",
    "button2 = widgets.Button(description=\"Download Read Mapping Table\",\n",
    "                        layout=widgets.Layout(width='300px',\n",
    "                                             height='50px'))\n",
    "\n",
    "def onbuttonclick2(b):\n",
    "    functions.showMappingTable(dataset_id.value, 2)\n",
    "button2.on_click(onbuttonclick2)\n",
    "b = display(button)\n",
    "b2 = display(button2)"
   ]
  },
  {
   "cell_type": "markdown",
   "metadata": {},
   "source": [
    "Find the **top three** disease causing microbes in your sample - you will use these results later."
   ]
  },
  {
   "cell_type": "markdown",
   "metadata": {},
   "source": [
    "## Match your reads to digestive bacteria"
   ]
  },
  {
   "cell_type": "markdown",
   "metadata": {},
   "source": [
    "Next, we will look for **digestive bacteria** in the sample- these are helpful bacteria which help our bodies digest food and usally don't cause disease."
   ]
  },
  {
   "cell_type": "markdown",
   "metadata": {},
   "source": [
    "There are many more digestive bacteria to look for than disease causing microbes, so we won't look at them one by one."
   ]
  },
  {
   "cell_type": "markdown",
   "metadata": {},
   "source": [
    "Click on the button below to map your reads to 44 digestive bacteria."
   ]
  },
  {
   "cell_type": "code",
   "execution_count": 6,
   "metadata": {},
   "outputs": [
    {
     "data": {
      "application/vnd.jupyter.widget-view+json": {
       "model_id": "4298766a479444bc908564cfe5f00122",
       "version_major": 2,
       "version_minor": 0
      },
      "text/html": [
       "<p>Failed to display Jupyter Widget of type <code>Button</code>.</p>\n",
       "<p>\n",
       "  If you're reading this message in the Jupyter Notebook or JupyterLab Notebook, it may mean\n",
       "  that the widgets JavaScript is still loading. If this message persists, it\n",
       "  likely means that the widgets JavaScript library is either not installed or\n",
       "  not enabled. See the <a href=\"https://ipywidgets.readthedocs.io/en/stable/user_install.html\">Jupyter\n",
       "  Widgets Documentation</a> for setup instructions.\n",
       "</p>\n",
       "<p>\n",
       "  If you're reading this message in another frontend (for example, a static\n",
       "  rendering on GitHub or <a href=\"https://nbviewer.jupyter.org/\">NBViewer</a>),\n",
       "  it may mean that your frontend doesn't currently support widgets.\n",
       "</p>\n"
      ],
      "text/plain": [
       "Button(description='Match Reads to Reference Sequences!', layout=Layout(height='50px', width='300px'), style=ButtonStyle())"
      ]
     },
     "metadata": {},
     "output_type": "display_data"
    },
    {
     "name": "stdout",
     "output_type": "stream",
     "text": [
      "Loading data....\n",
      "\n",
      "Loaded 10,000 reads\n",
      "Mapping reads...\n",
      "\n",
      "1 / 20: Mapping reads to Christensenella massiliensis\n",
      "0 reads identified matching Christensenella massiliensis\n",
      "0 reads identified in total\n",
      "\n",
      "2 / 20: Mapping reads to Roseburia hominis\n",
      "0 reads identified matching Roseburia hominis\n",
      "0 reads identified in total\n",
      "\n",
      "3 / 20: Mapping reads to Bacteroides vulgatus\n",
      "0 reads identified matching Bacteroides vulgatus\n",
      "0 reads identified in total\n",
      "\n",
      "4 / 20: Mapping reads to Butyricicoccus pullicaecorum\n",
      "0 reads identified matching Butyricicoccus pullicaecorum\n",
      "0 reads identified in total\n",
      "\n",
      "5 / 20: Mapping reads to Intestinibacter bartlettii\n",
      "525 reads identified matching Intestinibacter bartlettii\n",
      "525 reads identified in total\n",
      "\n",
      "6 / 20: Mapping reads to Treponema succinifaciens\n",
      "17 reads identified matching Treponema succinifaciens\n",
      "542 reads identified in total\n",
      "\n",
      "7 / 20: Mapping reads to Enterococcus hirae\n",
      "1285 reads identified matching Enterococcus hirae\n",
      "1827 reads identified in total\n",
      "\n",
      "8 / 20: Mapping reads to Clostridium ventriculi\n",
      "1017 reads identified matching Clostridium ventriculi\n",
      "2844 reads identified in total\n",
      "\n",
      "9 / 20: Mapping reads to Pseudomonas fluorescens\n",
      "0 reads identified matching Pseudomonas fluorescens\n",
      "2844 reads identified in total\n",
      "\n",
      "10 / 20: Mapping reads to Spirulina major\n",
      "0 reads identified matching Spirulina major\n",
      "2844 reads identified in total\n",
      "\n",
      "11 / 20: Mapping reads to Desulfotomaculum guttoideum\n",
      "0 reads identified matching Desulfotomaculum guttoideum\n",
      "2844 reads identified in total\n",
      "\n",
      "12 / 20: Mapping reads to Sporobacter termitidis\n",
      "0 reads identified matching Sporobacter termitidis\n",
      "2844 reads identified in total\n",
      "\n",
      "13 / 20: Mapping reads to Escherichia coli\n",
      "852 reads identified matching Escherichia coli\n",
      "3696 reads identified in total\n",
      "\n",
      "14 / 20: Mapping reads to Robinsoniella peoriensis\n",
      "0 reads identified matching Robinsoniella peoriensis\n",
      "3696 reads identified in total\n",
      "\n",
      "15 / 20: Mapping reads to Prevotella copri\n",
      "19 reads identified matching Prevotella copri\n",
      "3715 reads identified in total\n",
      "\n",
      "16 / 20: Mapping reads to Megamonas funiformis\n",
      "0 reads identified matching Megamonas funiformis\n",
      "3715 reads identified in total\n",
      "\n",
      "17 / 20: Mapping reads to Brevundimonas naejangsanensis\n",
      "0 reads identified matching Brevundimonas naejangsanensis\n",
      "3715 reads identified in total\n",
      "\n",
      "18 / 20: Mapping reads to Turicibacter sanguinis\n",
      "0 reads identified matching Turicibacter sanguinis\n",
      "3715 reads identified in total\n",
      "\n",
      "19 / 20: Mapping reads to Holdemanella biformis\n",
      "0 reads identified matching Holdemanella biformis\n",
      "3715 reads identified in total\n",
      "\n",
      "20 / 20: Mapping reads to Lactobacillus curvatus\n",
      "15 reads identified matching Lactobacillus curvatus\n",
      "3730 reads identified in total\n",
      "\n",
      "21 / 20: Mapping reads to Catenibacterium mitsuokai\n",
      "0 reads identified matching Catenibacterium mitsuokai\n",
      "3730 reads identified in total\n",
      "\n",
      "22 / 20: Mapping reads to Ruminococcus champanellensis\n",
      "2 reads identified matching Ruminococcus champanellensis\n",
      "3732 reads identified in total\n",
      "\n",
      "23 / 20: Mapping reads to Eubacterium oxidoreducens\n",
      "0 reads identified matching Eubacterium oxidoreducens\n",
      "3732 reads identified in total\n",
      "\n",
      "24 / 20: Mapping reads to Ruminococcus lactaris\n",
      "0 reads identified matching Ruminococcus lactaris\n",
      "3732 reads identified in total\n",
      "\n",
      "25 / 20: Mapping reads to Paludibacter propionicigenes\n",
      "0 reads identified matching Paludibacter propionicigenes\n",
      "3732 reads identified in total\n",
      "\n",
      "26 / 20: Mapping reads to Akkermansia muciniphila\n",
      "0 reads identified matching Akkermansia muciniphila\n",
      "3732 reads identified in total\n",
      "\n",
      "27 / 20: Mapping reads to Comamonas kerstersii\n",
      "0 reads identified matching Comamonas kerstersii\n",
      "3732 reads identified in total\n",
      "\n",
      "28 / 20: Mapping reads to Clostridium saccharolyticum\n",
      "0 reads identified matching Clostridium saccharolyticum\n",
      "3732 reads identified in total\n",
      "\n",
      "29 / 20: Mapping reads to Collinsella intestinalis\n",
      "0 reads identified matching Collinsella intestinalis\n",
      "3732 reads identified in total\n",
      "\n",
      "30 / 20: Mapping reads to Dialister succinatiphilus\n",
      "0 reads identified matching Dialister succinatiphilus\n",
      "3732 reads identified in total\n",
      "\n",
      "31 / 20: Mapping reads to Massilioclostridium coli\n",
      "0 reads identified matching Massilioclostridium coli\n",
      "3732 reads identified in total\n",
      "\n",
      "32 / 20: Mapping reads to Anaerostipes hadrus\n",
      "0 reads identified matching Anaerostipes hadrus\n",
      "3732 reads identified in total\n",
      "\n",
      "33 / 20: Mapping reads to Coprococcus comes\n",
      "0 reads identified matching Coprococcus comes\n",
      "3732 reads identified in total\n",
      "\n",
      "34 / 20: Mapping reads to Lentimicrobium saccharophilum\n",
      "0 reads identified matching Lentimicrobium saccharophilum\n",
      "3732 reads identified in total\n",
      "\n",
      "35 / 20: Mapping reads to Kiritimatiella glycovorans\n",
      "0 reads identified matching Kiritimatiella glycovorans\n",
      "3732 reads identified in total\n",
      "\n",
      "36 / 20: Mapping reads to Muribaculum intestinale\n",
      "0 reads identified matching Muribaculum intestinale\n",
      "3732 reads identified in total\n",
      "\n",
      "37 / 20: Mapping reads to Lysinibacillus fusiformis\n",
      "3919 reads identified matching Lysinibacillus fusiformis\n",
      "7651 reads identified in total\n",
      "\n",
      "38 / 20: Mapping reads to Anaerotignum neopropionicum\n",
      "0 reads identified matching Anaerotignum neopropionicum\n",
      "7651 reads identified in total\n",
      "\n",
      "39 / 20: Mapping reads to Pseudomonas nitroreducens\n",
      "0 reads identified matching Pseudomonas nitroreducens\n",
      "7651 reads identified in total\n",
      "\n",
      "40 / 20: Mapping reads to Ruminococcus flavefaciens\n",
      "0 reads identified matching Ruminococcus flavefaciens\n",
      "7651 reads identified in total\n",
      "\n",
      "41 / 20: Mapping reads to Glutamicibacter arilaitensis\n",
      "0 reads identified matching Glutamicibacter arilaitensis\n",
      "7651 reads identified in total\n",
      "\n",
      "42 / 20: Mapping reads to Cetobacterium somerae\n",
      "1542 reads identified matching Cetobacterium somerae\n",
      "9193 reads identified in total\n",
      "\n",
      "43 / 20: Mapping reads to Adlercreutzia equolifaciens\n",
      "0 reads identified matching Adlercreutzia equolifaciens\n",
      "9193 reads identified in total\n",
      "\n",
      "Identified 9193 reads!\n",
      "Done\n"
     ]
    }
   ],
   "source": [
    "importlib.reload(functions)\n",
    "button = widgets.Button(description=\"Match Reads to Reference Sequences!\",\n",
    "                        layout=widgets.Layout(width='300px',\n",
    "                                             height='50px'))\n",
    "\n",
    "def onbuttonclick(b):\n",
    "    r = functions.mapReadsDisplay(dataset_id.value, '../data/digest.fasta', typ='digest')\n",
    "button.on_click(onbuttonclick)\n",
    "b = display(button)"
   ]
  },
  {
   "cell_type": "code",
   "execution_count": 21,
   "metadata": {},
   "outputs": [
    {
     "data": {
      "application/vnd.jupyter.widget-view+json": {
       "model_id": "a9718806093a4b748b997e1d0a3a22b7",
       "version_major": 2,
       "version_minor": 0
      },
      "text/html": [
       "<p>Failed to display Jupyter Widget of type <code>Button</code>.</p>\n",
       "<p>\n",
       "  If you're reading this message in the Jupyter Notebook or JupyterLab Notebook, it may mean\n",
       "  that the widgets JavaScript is still loading. If this message persists, it\n",
       "  likely means that the widgets JavaScript library is either not installed or\n",
       "  not enabled. See the <a href=\"https://ipywidgets.readthedocs.io/en/stable/user_install.html\">Jupyter\n",
       "  Widgets Documentation</a> for setup instructions.\n",
       "</p>\n",
       "<p>\n",
       "  If you're reading this message in another frontend (for example, a static\n",
       "  rendering on GitHub or <a href=\"https://nbviewer.jupyter.org/\">NBViewer</a>),\n",
       "  it may mean that your frontend doesn't currently support widgets.\n",
       "</p>\n"
      ],
      "text/plain": [
       "Button(description='Count Reads per Microbe', layout=Layout(height='50px', width='300px'), style=ButtonStyle())"
      ]
     },
     "metadata": {},
     "output_type": "display_data"
    }
   ],
   "source": [
    "importlib.reload(functions)\n",
    "button = widgets.Button(description=\"Count Reads per Microbe\",\n",
    "                        layout=widgets.Layout(width='300px',\n",
    "                                             height='50px'))\n",
    "\n",
    "def onbuttonclick(b):\n",
    "    functions.showMappingBar(dataset_id.value, typ='digest')\n",
    "button.on_click(onbuttonclick)\n",
    "b = display(button)"
   ]
  },
  {
   "cell_type": "code",
   "execution_count": null,
   "metadata": {},
   "outputs": [],
   "source": []
  }
 ],
 "metadata": {
  "kernelspec": {
   "display_name": "Python 3",
   "language": "python",
   "name": "python3"
  },
  "language_info": {
   "codemirror_mode": {
    "name": "ipython",
    "version": 3
   },
   "file_extension": ".py",
   "mimetype": "text/x-python",
   "name": "python",
   "nbconvert_exporter": "python",
   "pygments_lexer": "ipython3",
   "version": "3.6.3"
  }
 },
 "nbformat": 4,
 "nbformat_minor": 2
}
