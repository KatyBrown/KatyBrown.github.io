{
 "cells": [
  {
   "cell_type": "markdown",
   "metadata": {},
   "source": [
    "# Resources"
   ]
  },
  {
   "cell_type": "markdown",
   "metadata": {},
   "source": [
    "Here are some helpful websites to learn more about your microbes.\n",
    "\n",
    "Not every microbe will be on every site.\n",
    "\n",
    "Some of the information might be incomplete or inaccurate."
   ]
  },
  {
   "cell_type": "markdown",
   "metadata": {},
   "source": [
    "[Epizone](https://www.epizone-eu.net/en/Home/Animal-diseases.htm)\n",
    "\n",
    "[NCBI Virus](https://www.ncbi.nlm.nih.gov/labs/virus/vssi)\n",
    "\n",
    "[Virus Host Database](https://www.genome.jp/virushostdb/view/)\n",
    "\n",
    "[Viral Zone](https://viralzone.expasy.org/)\n",
    "\n",
    "[MSD Vet Manual](https://www.msdvetmanual.com/)\n",
    "\n",
    "[Defra](https://www.daera-ni.gov.uk/topics/animal-health-and-welfare/animal-diseases)\n",
    "\n"
   ]
  },
  {
   "cell_type": "markdown",
   "metadata": {},
   "source": []
  },
  {
   "cell_type": "code",
   "execution_count": null,
   "metadata": {},
   "outputs": [],
   "source": []
  }
 ],
 "metadata": {
  "kernelspec": {
   "display_name": "Python 3",
   "language": "python",
   "name": "python3"
  },
  "language_info": {
   "codemirror_mode": {
    "name": "ipython",
    "version": 3
   },
   "file_extension": ".py",
   "mimetype": "text/x-python",
   "name": "python",
   "nbconvert_exporter": "python",
   "pygments_lexer": "ipython3",
   "version": "3.6.3"
  }
 },
 "nbformat": 4,
 "nbformat_minor": 2
}
