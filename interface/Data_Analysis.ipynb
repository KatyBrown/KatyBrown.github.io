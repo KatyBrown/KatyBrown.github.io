{
 "cells": [
  {
   "cell_type": "code",
   "execution_count": 1,
   "metadata": {},
   "outputs": [],
   "source": [
    "%matplotlib inline\n",
    "import functions\n",
    "import ipywidgets as widgets"
   ]
  },
  {
   "cell_type": "code",
   "execution_count": 2,
   "metadata": {},
   "outputs": [
    {
     "data": {
      "text/html": [
       "<script>\n",
       "code_show=true; \n",
       "function code_toggle() {\n",
       " if (code_show){\n",
       " $('div.input').hide();\n",
       " } else {\n",
       " $('div.input').show();\n",
       " }\n",
       " code_show = !code_show\n",
       "} \n",
       "$( document ).ready(code_toggle);\n",
       "</script>\n",
       "<form action=\"javascript:code_toggle()\"><input type=\"submit\" value=\".\"></form>"
      ],
      "text/plain": [
       "<IPython.core.display.HTML object>"
      ]
     },
     "execution_count": 2,
     "metadata": {},
     "output_type": "execute_result"
    }
   ],
   "source": [
    "from IPython.display import HTML\n",
    "\n",
    "HTML('''<script>\n",
    "code_show=true; \n",
    "function code_toggle() {\n",
    " if (code_show){\n",
    " $('div.input').hide();\n",
    " } else {\n",
    " $('div.input').show();\n",
    " }\n",
    " code_show = !code_show\n",
    "} \n",
    "$( document ).ready(code_toggle);\n",
    "</script>\n",
    "<form action=\"javascript:code_toggle()\"><input type=\"submit\" value=\".\"></form>''')\n"
   ]
  },
  {
   "cell_type": "code",
   "execution_count": 3,
   "metadata": {},
   "outputs": [
    {
     "data": {
      "application/javascript": [
       "IPython.OutputArea.prototype._should_scroll = function(lines) {\n",
       "    return false;\n",
       "}"
      ],
      "text/plain": [
       "<IPython.core.display.Javascript object>"
      ]
     },
     "metadata": {},
     "output_type": "display_data"
    }
   ],
   "source": [
    "%%javascript\n",
    "IPython.OutputArea.prototype._should_scroll = function(lines) {\n",
    "    return false;\n",
    "}"
   ]
  },
  {
   "cell_type": "code",
   "execution_count": 4,
   "metadata": {},
   "outputs": [],
   "source": [
    "import importlib\n",
    "importlib.reload(functions)\n",
    "m = functions.getPathNames()"
   ]
  },
  {
   "cell_type": "markdown",
   "metadata": {},
   "source": [
    "This app will help you analyse your next generation sequencing data.\n",
    "\n",
    "Click on the menus and the yellow buttons to do the analysis\n",
    "\n",
    "You might want to use some of the graphs for your poster later.\n",
    "\n",
    "If you want to save an image, right click on it and choose \"Save Image As\".\n",
    "\n",
    "If you want to print a graph, you need to save it and open it first."
   ]
  },
  {
   "cell_type": "markdown",
   "metadata": {},
   "source": [
    "## Important: Select your dataset ID in this menu before running the analysis below."
   ]
  },
  {
   "cell_type": "code",
   "execution_count": 5,
   "metadata": {},
   "outputs": [
    {
     "data": {
      "application/vnd.jupyter.widget-view+json": {
       "model_id": "91b77d0c98be43b89e2c1247fdf50409",
       "version_major": 2,
       "version_minor": 0
      },
      "text/html": [
       "<p>Failed to display Jupyter Widget of type <code>Dropdown</code>.</p>\n",
       "<p>\n",
       "  If you're reading this message in the Jupyter Notebook or JupyterLab Notebook, it may mean\n",
       "  that the widgets JavaScript is still loading. If this message persists, it\n",
       "  likely means that the widgets JavaScript library is either not installed or\n",
       "  not enabled. See the <a href=\"https://ipywidgets.readthedocs.io/en/stable/user_install.html\">Jupyter\n",
       "  Widgets Documentation</a> for setup instructions.\n",
       "</p>\n",
       "<p>\n",
       "  If you're reading this message in another frontend (for example, a static\n",
       "  rendering on GitHub or <a href=\"https://nbviewer.jupyter.org/\">NBViewer</a>),\n",
       "  it may mean that your frontend doesn't currently support widgets.\n",
       "</p>\n"
      ],
      "text/plain": [
       "Dropdown(options=(1, 2, 3, 4, 5, 6), value=1)"
      ]
     },
     "metadata": {},
     "output_type": "display_data"
    }
   ],
   "source": [
    "dataset_id = widgets.Dropdown(options=range(1, 7))\n",
    "dataset_id"
   ]
  },
  {
   "cell_type": "markdown",
   "metadata": {},
   "source": [
    "## Examine the data"
   ]
  },
  {
   "cell_type": "markdown",
   "metadata": {},
   "source": [
    "Your data consists of a set of 40,000 next generation sequencing **reads**.\n",
    "\n",
    "Your task is to find out as much as you can about the animal the reads come from by analysing the data.\n",
    "\n",
    "First, you need to look at your data.\n",
    "\n",
    "Click on the button below to see 50 random reads from your data."
   ]
  },
  {
   "cell_type": "code",
   "execution_count": 6,
   "metadata": {},
   "outputs": [
    {
     "data": {
      "application/vnd.jupyter.widget-view+json": {
       "model_id": "551c7b57b821486c8c1afb7337c77730",
       "version_major": 2,
       "version_minor": 0
      },
      "text/html": [
       "<p>Failed to display Jupyter Widget of type <code>Button</code>.</p>\n",
       "<p>\n",
       "  If you're reading this message in the Jupyter Notebook or JupyterLab Notebook, it may mean\n",
       "  that the widgets JavaScript is still loading. If this message persists, it\n",
       "  likely means that the widgets JavaScript library is either not installed or\n",
       "  not enabled. See the <a href=\"https://ipywidgets.readthedocs.io/en/stable/user_install.html\">Jupyter\n",
       "  Widgets Documentation</a> for setup instructions.\n",
       "</p>\n",
       "<p>\n",
       "  If you're reading this message in another frontend (for example, a static\n",
       "  rendering on GitHub or <a href=\"https://nbviewer.jupyter.org/\">NBViewer</a>),\n",
       "  it may mean that your frontend doesn't currently support widgets.\n",
       "</p>\n"
      ],
      "text/plain": [
       "Button(description='View 50 Reads', layout=Layout(height='50px', width='300px'), style=ButtonStyle(button_color='#f5de83'))"
      ]
     },
     "metadata": {},
     "output_type": "display_data"
    }
   ],
   "source": [
    "importlib.reload(functions)\n",
    "button = widgets.Button(description=\"View 50 Reads\",\n",
    "                        layout=widgets.Layout(width='300px',\n",
    "                                             height='50px'))\n",
    "\n",
    "def onbuttonclick(b):\n",
    "    functions.sampleReads(functions.FastaToDict(\"../data/sample_%s_reads.fasta\" % dataset_id.value), 50)\n",
    "button.on_click(onbuttonclick)\n",
    "button.style.button_color = '#f5de83'\n",
    "\n",
    "b = display(button)"
   ]
  },
  {
   "cell_type": "markdown",
   "metadata": {},
   "source": [
    "[alternative link dataset 1](../data/sample_1_reads_random.fasta),\n",
    "[alternative link dataset 2](../data/sample_2_reads_random.fasta),\n",
    "[alternative link dataset 3](../data/sample_3_reads_random.fasta),\n",
    "[alternative link dataset 4](../data/sample_4_reads_random.fasta),\n",
    "[alternative link dataset 5](../data/sample_5_reads_random.fasta),\n",
    "[alternative link dataset 6](../data/sample_6_reads_random.fasta)"
   ]
  },
  {
   "cell_type": "markdown",
   "metadata": {},
   "source": [
    "## Search your data"
   ]
  },
  {
   "cell_type": "markdown",
   "metadata": {},
   "source": [
    "It is difficult to find anything out about your data just from looking at it.\n",
    "\n",
    "Instead, we can start to search for sequences which match different reference sequences."
   ]
  },
  {
   "cell_type": "markdown",
   "metadata": {},
   "source": [
    "### Research the Reference Microbes\n",
    "\n",
    "First, you will search in your sample for each of 20 microbes which can cause disease in some animals.\n",
    "\n",
    "You can find out about these microbes by selecting them in the menu below and by searching for them online.\n",
    "\n",
    "(Loading these images can be slow)"
   ]
  },
  {
   "cell_type": "code",
   "execution_count": 7,
   "metadata": {
    "scrolled": false
   },
   "outputs": [
    {
     "data": {
      "application/vnd.jupyter.widget-view+json": {
       "model_id": "9a82382213e946138b282e777d82a60c",
       "version_major": 2,
       "version_minor": 0
      },
      "text/html": [
       "<p>Failed to display Jupyter Widget of type <code>interactive</code>.</p>\n",
       "<p>\n",
       "  If you're reading this message in the Jupyter Notebook or JupyterLab Notebook, it may mean\n",
       "  that the widgets JavaScript is still loading. If this message persists, it\n",
       "  likely means that the widgets JavaScript library is either not installed or\n",
       "  not enabled. See the <a href=\"https://ipywidgets.readthedocs.io/en/stable/user_install.html\">Jupyter\n",
       "  Widgets Documentation</a> for setup instructions.\n",
       "</p>\n",
       "<p>\n",
       "  If you're reading this message in another frontend (for example, a static\n",
       "  rendering on GitHub or <a href=\"https://nbviewer.jupyter.org/\">NBViewer</a>),\n",
       "  it may mean that your frontend doesn't currently support widgets.\n",
       "</p>\n"
      ],
      "text/plain": [
       "interactive(children=(Dropdown(description='microbe', options=('Select option', 'Anaplasma phagocytophilum', 'Bartonella henselae', 'Bartonella vinsonii', 'Borna disease virus', 'Bovine leukemia virus', 'Brucella abortus', 'Brucella suis', 'Canine parvovirus', 'Classical swine fever virus', 'Equine infectious anemia virus', 'Escherichia coli', 'Feline leukemia virus', 'Foot and mouth disease virus', 'Hepatitis e virus', 'Influenza a virus', 'Mycoplasma haemofelis', 'Neorickettsia risticii', 'Rabies lyssavirus', 'Torque teno sus virus', 'Visna virus'), value='Select option'), Checkbox(value=False, description='save'), Output()), _dom_classes=('widget-interact',))"
      ]
     },
     "metadata": {},
     "output_type": "display_data"
    }
   ],
   "source": [
    "importlib.reload(functions)\n",
    "M = functions.getDropdown('microbe_name', microbes=m)\n",
    "w = widgets.interact(functions.plotRefSeq, microbe=M)"
   ]
  },
  {
   "cell_type": "markdown",
   "metadata": {},
   "source": [
    "Alternative links:\n",
    "[Feline leukemia virus](feline_leukemia_virus.png)\n",
    "[Mycoplasma haemofelis](mycoplasma_haemofelis.png)\n",
    "[Bartonella henselae](bartonella_henselae.png)\n",
    "[Borna disease virus](borna_disease_virus.png)\n",
    "[Equine infectious anemia virus](equine_infectious_anemia_virus.png)\n",
    "[Neorickettsia risticii](neorickettsia_risticii.png)\n",
    "[Bartonella vinsonii](bartonella_vinsonii.png)\n",
    "[Canine parvovirus](canine_parvovirus.png)\n",
    "[Rabies lyssavirus](rabies_lyssavirus.png)\n",
    "[Brucella abortus](brucella_abortus.png)\n",
    "[Bovine leukemia virus](bovine_leukemia_virus.png)\n",
    "[Foot and mouth disease virus](foot_and_mouth_disease_virus.png)\n",
    "[Anaplasma phagocytophilum](anaplasma_phagocytophilum.png)\n",
    "[Escherichia coli](escherichia_coli.png)\n",
    "[Visna virus](visna_virus.png)\n",
    "[Classical swine fever virus](classical_swine_fever_virus.png)\n",
    "[Hepatitis e virus](hepatitis_e_virus.png)\n",
    "[Brucella suis](brucella_suis.png)\n",
    "[Influenza a virus](influenza_a_virus.png)\n",
    "[Torque teno sus virus](torque_teno_sus_virus.png)\n"
   ]
  },
  {
   "cell_type": "markdown",
   "metadata": {},
   "source": [
    "### Match your reads to the reference data"
   ]
  },
  {
   "cell_type": "markdown",
   "metadata": {},
   "source": [
    "We can now look if any of your reads match any of these known microbes."
   ]
  },
  {
   "cell_type": "code",
   "execution_count": 8,
   "metadata": {},
   "outputs": [
    {
     "data": {
      "application/vnd.jupyter.widget-view+json": {
       "model_id": "d9acd049bf7e40f2ac97a5251241d6df",
       "version_major": 2,
       "version_minor": 0
      },
      "text/html": [
       "<p>Failed to display Jupyter Widget of type <code>Button</code>.</p>\n",
       "<p>\n",
       "  If you're reading this message in the Jupyter Notebook or JupyterLab Notebook, it may mean\n",
       "  that the widgets JavaScript is still loading. If this message persists, it\n",
       "  likely means that the widgets JavaScript library is either not installed or\n",
       "  not enabled. See the <a href=\"https://ipywidgets.readthedocs.io/en/stable/user_install.html\">Jupyter\n",
       "  Widgets Documentation</a> for setup instructions.\n",
       "</p>\n",
       "<p>\n",
       "  If you're reading this message in another frontend (for example, a static\n",
       "  rendering on GitHub or <a href=\"https://nbviewer.jupyter.org/\">NBViewer</a>),\n",
       "  it may mean that your frontend doesn't currently support widgets.\n",
       "</p>\n"
      ],
      "text/plain": [
       "Button(description='Match Reads to Reference Sequences!', layout=Layout(height='50px', width='300px'), style=ButtonStyle(button_color='#f5de83'))"
      ]
     },
     "metadata": {},
     "output_type": "display_data"
    }
   ],
   "source": [
    "importlib.reload(functions)\n",
    "button = widgets.Button(description=\"Match Reads to Reference Sequences!\",\n",
    "                        layout=widgets.Layout(width='300px',\n",
    "                                             height='50px'))\n",
    "button.style.button_color = '#f5de83'\n",
    "\n",
    "def onbuttonclick(b):\n",
    "    r = functions.mapReadsDisplay(dataset_id.value, '../data/references.fasta')\n",
    "button.on_click(onbuttonclick)\n",
    "b = display(button)"
   ]
  },
  {
   "cell_type": "markdown",
   "metadata": {},
   "source": [
    "[alternative link dataset 1](dataset_1_mapping.txt),\n",
    "[alternative link dataset 2](dataset_2_mapping.txt),\n",
    "[alternative link dataset 3](dataset_3_mapping.txt),\n",
    "[alternative link dataset 4](dataset_4_mapping.txt),\n",
    "[alternative link dataset 5](dataset_5_mapping.txt),\n",
    "[alternative link dataset 6](dataset_6_mapping.txt)"
   ]
  },
  {
   "cell_type": "markdown",
   "metadata": {},
   "source": [
    "Now your reads are mapped to the 20 reference microbe genomes.\n",
    "\n",
    "Click on the button below to view how many results you found per reference genome."
   ]
  },
  {
   "cell_type": "code",
   "execution_count": 9,
   "metadata": {},
   "outputs": [
    {
     "data": {
      "application/vnd.jupyter.widget-view+json": {
       "model_id": "7f02ef73d63b4081ae26fc81cb56f1f4",
       "version_major": 2,
       "version_minor": 0
      },
      "text/html": [
       "<p>Failed to display Jupyter Widget of type <code>Button</code>.</p>\n",
       "<p>\n",
       "  If you're reading this message in the Jupyter Notebook or JupyterLab Notebook, it may mean\n",
       "  that the widgets JavaScript is still loading. If this message persists, it\n",
       "  likely means that the widgets JavaScript library is either not installed or\n",
       "  not enabled. See the <a href=\"https://ipywidgets.readthedocs.io/en/stable/user_install.html\">Jupyter\n",
       "  Widgets Documentation</a> for setup instructions.\n",
       "</p>\n",
       "<p>\n",
       "  If you're reading this message in another frontend (for example, a static\n",
       "  rendering on GitHub or <a href=\"https://nbviewer.jupyter.org/\">NBViewer</a>),\n",
       "  it may mean that your frontend doesn't currently support widgets.\n",
       "</p>\n"
      ],
      "text/plain": [
       "Button(description='Count Reads per Microbe', layout=Layout(height='50px', width='300px'), style=ButtonStyle(button_color='#f5de83'))"
      ]
     },
     "metadata": {},
     "output_type": "display_data"
    }
   ],
   "source": [
    "importlib.reload(functions)\n",
    "button = widgets.Button(description=\"Count Reads per Microbe\",\n",
    "                        layout=widgets.Layout(width='300px',\n",
    "                                             height='50px'))\n",
    "\n",
    "def onbuttonclick(b):\n",
    "    functions.showMappingBar(dataset_id.value)\n",
    "button.on_click(onbuttonclick)\n",
    "button.style.button_color = '#f5de83'\n",
    "b = display(button)"
   ]
  },
  {
   "cell_type": "markdown",
   "metadata": {},
   "source": [
    "[alternative link dataset 1](1_reads_bar_path.png), \n",
    "[alternative link dataset 2](2_reads_bar_path.png), \n",
    "[alternative link dataset 3](3_reads_bar_path.png), \n",
    "[alternative link dataset 4](4_reads_bar_path.png), \n",
    "[alternative link dataset 5](5_reads_bar_path.png), \n",
    "[alternative link dataset 6](6_reads_bar_path.png)"
   ]
  },
  {
   "cell_type": "markdown",
   "metadata": {},
   "source": [
    "You can also look where on the microbe reference genome your reads were found."
   ]
  },
  {
   "cell_type": "code",
   "execution_count": 10,
   "metadata": {},
   "outputs": [
    {
     "data": {
      "application/vnd.jupyter.widget-view+json": {
       "model_id": "08f4f379ecfb41e3a5ed023709c8b7cb",
       "version_major": 2,
       "version_minor": 0
      },
      "text/html": [
       "<p>Failed to display Jupyter Widget of type <code>Button</code>.</p>\n",
       "<p>\n",
       "  If you're reading this message in the Jupyter Notebook or JupyterLab Notebook, it may mean\n",
       "  that the widgets JavaScript is still loading. If this message persists, it\n",
       "  likely means that the widgets JavaScript library is either not installed or\n",
       "  not enabled. See the <a href=\"https://ipywidgets.readthedocs.io/en/stable/user_install.html\">Jupyter\n",
       "  Widgets Documentation</a> for setup instructions.\n",
       "</p>\n",
       "<p>\n",
       "  If you're reading this message in another frontend (for example, a static\n",
       "  rendering on GitHub or <a href=\"https://nbviewer.jupyter.org/\">NBViewer</a>),\n",
       "  it may mean that your frontend doesn't currently support widgets.\n",
       "</p>\n"
      ],
      "text/plain": [
       "Button(description='Show Read Mapping', layout=Layout(height='50px', width='300px'), style=ButtonStyle(button_color='#f5de83'))"
      ]
     },
     "metadata": {},
     "output_type": "display_data"
    }
   ],
   "source": [
    "importlib.reload(functions)\n",
    "button = widgets.Button(description=\"Show Read Mapping\",\n",
    "                        layout=widgets.Layout(width='300px',\n",
    "                                             height='50px'))\n",
    "\n",
    "def onbuttonclick(b):\n",
    "    functions.showMapping(dataset_id.value)\n",
    "button.on_click(onbuttonclick)\n",
    "button.style.button_color = '#f5de83'\n",
    "b = display(button)"
   ]
  },
  {
   "cell_type": "markdown",
   "metadata": {},
   "source": [
    "[alternative link dataset 1](1_reads_mapping_path.png), \n",
    "[alternative link dataset 2](2_reads_mapping_path.png), \n",
    "[alternative link dataset 3](3_reads_mapping_path.png), \n",
    "[alternative link dataset 4](4_reads_mapping_path.png), \n",
    "[alternative link dataset 5](5_reads_mapping_path.png), \n",
    "[alternative link dataset 6](6_reads_mapping_path.png)"
   ]
  },
  {
   "cell_type": "markdown",
   "metadata": {},
   "source": [
    "Click here to see your results in a table."
   ]
  },
  {
   "cell_type": "code",
   "execution_count": 11,
   "metadata": {},
   "outputs": [
    {
     "data": {
      "application/vnd.jupyter.widget-view+json": {
       "model_id": "f9ee7b6f66b04fc0818c309a7a63e717",
       "version_major": 2,
       "version_minor": 0
      },
      "text/html": [
       "<p>Failed to display Jupyter Widget of type <code>Button</code>.</p>\n",
       "<p>\n",
       "  If you're reading this message in the Jupyter Notebook or JupyterLab Notebook, it may mean\n",
       "  that the widgets JavaScript is still loading. If this message persists, it\n",
       "  likely means that the widgets JavaScript library is either not installed or\n",
       "  not enabled. See the <a href=\"https://ipywidgets.readthedocs.io/en/stable/user_install.html\">Jupyter\n",
       "  Widgets Documentation</a> for setup instructions.\n",
       "</p>\n",
       "<p>\n",
       "  If you're reading this message in another frontend (for example, a static\n",
       "  rendering on GitHub or <a href=\"https://nbviewer.jupyter.org/\">NBViewer</a>),\n",
       "  it may mean that your frontend doesn't currently support widgets.\n",
       "</p>\n"
      ],
      "text/plain": [
       "Button(description='Show Read Mapping Table', layout=Layout(height='50px', width='300px'), style=ButtonStyle(button_color='#f5de83'))"
      ]
     },
     "metadata": {},
     "output_type": "display_data"
    }
   ],
   "source": [
    "importlib.reload(functions)\n",
    "button = widgets.Button(description=\"Show Read Mapping Table\",\n",
    "                        layout=widgets.Layout(width='300px',\n",
    "                                             height='50px'))\n",
    "\n",
    "def onbuttonclick(b):\n",
    "    functions.showMappingTable(dataset_id.value, 1)\n",
    "button.on_click(onbuttonclick)\n",
    "button2 = widgets.Button(description=\"Download Read Mapping Table\",\n",
    "                        layout=widgets.Layout(width='300px',\n",
    "                                             height='50px'))\n",
    "button.style.button_color = '#f5de83'\n",
    "\n",
    "\n",
    "b = display(button)"
   ]
  },
  {
   "cell_type": "markdown",
   "metadata": {},
   "source": [
    "[alternative link dataset 1](1_mapping_table.txt), \n",
    "[alternative link dataset 2](2_mapping_table.txt), \n",
    "[alternative link dataset 3](3_mapping_table.txt), \n",
    "[alternative link dataset 4](4_mapping_table.txt), \n",
    "[alternative link dataset 5](5_mapping_table.txt), \n",
    "[alternative link dataset 6](6_mapping_table.txt), "
   ]
  },
  {
   "cell_type": "markdown",
   "metadata": {},
   "source": [
    "Write down the 3 microbes which were **most common** in your sample."
   ]
  }
 ],
 "metadata": {
  "kernelspec": {
   "display_name": "Python 3",
   "language": "python",
   "name": "python3"
  },
  "language_info": {
   "codemirror_mode": {
    "name": "ipython",
    "version": 3
   },
   "file_extension": ".py",
   "mimetype": "text/x-python",
   "name": "python",
   "nbconvert_exporter": "python",
   "pygments_lexer": "ipython3",
   "version": "3.6.3"
  }
 },
 "nbformat": 4,
 "nbformat_minor": 2
}
