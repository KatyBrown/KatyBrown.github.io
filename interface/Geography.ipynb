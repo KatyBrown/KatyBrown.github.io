{
 "cells": [
  {
   "cell_type": "code",
   "execution_count": 1,
   "metadata": {},
   "outputs": [
    {
     "data": {
      "text/html": [
       "<script>\n",
       "code_show=true; \n",
       "function code_toggle() {\n",
       " if (code_show){\n",
       " $('div.input').hide();\n",
       " } else {\n",
       " $('div.input').show();\n",
       " }\n",
       " code_show = !code_show\n",
       "} \n",
       "$( document ).ready(code_toggle);\n",
       "</script>\n",
       "<form action=\"javascript:code_toggle()\"><input type=\"submit\" value=\".\"></form>"
      ],
      "text/plain": [
       "<IPython.core.display.HTML object>"
      ]
     },
     "execution_count": 1,
     "metadata": {},
     "output_type": "execute_result"
    }
   ],
   "source": [
    "from IPython.display import HTML\n",
    "\n",
    "HTML('''<script>\n",
    "code_show=true; \n",
    "function code_toggle() {\n",
    " if (code_show){\n",
    " $('div.input').hide();\n",
    " } else {\n",
    " $('div.input').show();\n",
    " }\n",
    " code_show = !code_show\n",
    "} \n",
    "$( document ).ready(code_toggle);\n",
    "</script>\n",
    "<form action=\"javascript:code_toggle()\"><input type=\"submit\" value=\".\"></form>''')\n"
   ]
  },
  {
   "cell_type": "markdown",
   "metadata": {},
   "source": [
    "# Host and Geography"
   ]
  },
  {
   "cell_type": "markdown",
   "metadata": {},
   "source": [
    "This app is designed to help you find out:\n",
    "1. **Where does the animal in your dataset live?**\n",
    "2. **What type of animal does your dataset come from?**"
   ]
  },
  {
   "cell_type": "markdown",
   "metadata": {},
   "source": [
    "To help us find out, we can look where the disease-causing microbes in your sample have been seen before in different animals.\n",
    "\n",
    "### Microbe Distribution Map\n",
    "\n",
    "The countries in the map below will turn red if your microbe has been seen there before in the animal you choose on the list.  The more times the microbe has been seen in that country, the darker it will be.\n",
    "\n",
    "There is a table underneath the map with the same information."
   ]
  },
  {
   "cell_type": "code",
   "execution_count": 2,
   "metadata": {},
   "outputs": [],
   "source": [
    "%matplotlib inline\n",
    "import functions\n",
    "import ipywidgets as widgets\n",
    "import importlib"
   ]
  },
  {
   "cell_type": "code",
   "execution_count": 3,
   "metadata": {},
   "outputs": [
    {
     "data": {
      "application/javascript": [
       "IPython.OutputArea.prototype._should_scroll = function(lines) {\n",
       "    return false;\n",
       "}"
      ],
      "text/plain": [
       "<IPython.core.display.Javascript object>"
      ]
     },
     "metadata": {},
     "output_type": "display_data"
    }
   ],
   "source": [
    "%%javascript\n",
    "IPython.OutputArea.prototype._should_scroll = function(lines) {\n",
    "    return false;\n",
    "}"
   ]
  },
  {
   "cell_type": "markdown",
   "metadata": {},
   "source": [
    "Look up your three top microbes from the \"Data Analysis\" app on the map.\n",
    "\n",
    "**Important: Remember that all your data is from the same animal in the same country.**\n",
    "\n",
    "You need to find:\n",
    "* A country which is shared by all three of the microbes\n",
    "* An animal which can be infected with all three of the microbes\n"
   ]
  },
  {
   "cell_type": "markdown",
   "metadata": {},
   "source": [
    "Choose a microbe and an animal from the menus:"
   ]
  },
  {
   "cell_type": "code",
   "execution_count": 4,
   "metadata": {},
   "outputs": [
    {
     "data": {
      "application/vnd.jupyter.widget-view+json": {
       "model_id": "599bb3891fb54f18883c0a4e6c85d5b3",
       "version_major": 2,
       "version_minor": 0
      },
      "text/html": [
       "<p>Failed to display Jupyter Widget of type <code>interactive</code>.</p>\n",
       "<p>\n",
       "  If you're reading this message in the Jupyter Notebook or JupyterLab Notebook, it may mean\n",
       "  that the widgets JavaScript is still loading. If this message persists, it\n",
       "  likely means that the widgets JavaScript library is either not installed or\n",
       "  not enabled. See the <a href=\"https://ipywidgets.readthedocs.io/en/stable/user_install.html\">Jupyter\n",
       "  Widgets Documentation</a> for setup instructions.\n",
       "</p>\n",
       "<p>\n",
       "  If you're reading this message in another frontend (for example, a static\n",
       "  rendering on GitHub or <a href=\"https://nbviewer.jupyter.org/\">NBViewer</a>),\n",
       "  it may mean that your frontend doesn't currently support widgets.\n",
       "</p>\n"
      ],
      "text/plain": [
       "interactive(children=(Dropdown(description='microbe', options=('Select option', 'All microbes', 'Anaplasma phagocytophilum', 'Bartonella henselae', 'Bartonella vinsonii', 'Borna disease virus', 'Bovine leukemia virus', 'Brucella abortus', 'Brucella suis', 'Canine parvovirus', 'Classical swine fever virus', 'Equine infectious anemia virus', 'Escherichia coli', 'Feline leukemia virus', 'Foot and mouth disease virus', 'Hepatitis e virus', 'Influenza a virus', 'Mycoplasma haemofelis', 'Neorickettsia risticii', 'Rabies lyssavirus', 'Torque teno sus virus', 'Visna virus'), value='Select option'), Dropdown(description='host', options=('Select option', 'All hosts', 'Cat', 'Cow', 'Dog', 'Goat', 'Horse', 'Pig', 'Rabbit', 'Sheep'), value='Select option'), Checkbox(value=False, description='save'), Output()), _dom_classes=('widget-interact',))"
      ]
     },
     "metadata": {},
     "output_type": "display_data"
    }
   ],
   "source": [
    "importlib.reload(functions)\n",
    "m = functions.getPathNames()\n",
    "M = functions.getDropdown('microbe_name', plus='all_microbes', microbes=m)\n",
    "H = functions.getDropdown('host_name', plus='all_hosts')\n",
    "w = widgets.interact(functions.plotPathDist, microbe=M, host=H)"
   ]
  },
  {
   "cell_type": "markdown",
   "metadata": {},
   "source": [
    "[alternative links - images](alternatives_geo.html)\n",
    "\n",
    "[alternative links - tables](alternatives_geo_tab.html)"
   ]
  },
  {
   "cell_type": "code",
   "execution_count": null,
   "metadata": {},
   "outputs": [],
   "source": []
  }
 ],
 "metadata": {
  "kernelspec": {
   "display_name": "Python 3",
   "language": "python",
   "name": "python3"
  },
  "language_info": {
   "codemirror_mode": {
    "name": "ipython",
    "version": 3
   },
   "file_extension": ".py",
   "mimetype": "text/x-python",
   "name": "python",
   "nbconvert_exporter": "python",
   "pygments_lexer": "ipython3",
   "version": "3.6.3"
  }
 },
 "nbformat": 4,
 "nbformat_minor": 2
}
