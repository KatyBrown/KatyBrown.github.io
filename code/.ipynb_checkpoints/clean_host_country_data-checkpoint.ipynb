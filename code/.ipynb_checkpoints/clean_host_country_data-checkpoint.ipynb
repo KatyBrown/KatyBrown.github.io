{
 "cells": [
  {
   "cell_type": "code",
   "execution_count": 1,
   "metadata": {},
   "outputs": [],
   "source": [
    "import pandas as pd\n",
    "import numpy as np\n",
    "from collections import Counter\n",
    "import string\n",
    "import Bio\n",
    "import Bio.Entrez as Entrez\n",
    "import json\n",
    "import time\n",
    "import xmltodict\n",
    "import copy"
   ]
  },
  {
   "cell_type": "code",
   "execution_count": 2,
   "metadata": {},
   "outputs": [],
   "source": [
    "def trimPunc(astring):\n",
    "    letters = set(list(string.ascii_lowercase))\n",
    "    letters.add(\" \")\n",
    "    letters.add(\"[\")\n",
    "    letters.add(\"]\")\n",
    "    letters.add(\"-\")\n",
    "    L = list(astring)\n",
    "    L2 = []\n",
    "    for l in L:\n",
    "        if l in letters:\n",
    "            L2.append(l)\n",
    "        else:\n",
    "            break\n",
    "    clean = \"\".join(L2).replace(\"[\", \"\").replace(\"]\", \"\")\n",
    "    clean = clean.strip()\n",
    "    clean = clean.replace(\" type\", \"\")\n",
    "    clean = clean.replace(\" \", \"_\")\n",
    "    return (clean)"
   ]
  },
  {
   "cell_type": "code",
   "execution_count": 3,
   "metadata": {},
   "outputs": [],
   "source": [
    "data = pd.read_csv(\"../data/both.tsv\", sep=\"\\t\")\n",
    "data['host'] = data['host'].str.replace(\" \", \"_\")\n",
    "data['host'] = data['host'].str.split(\"_\").str.get(0) + \"_\" + data['host'].str.split(\"_\").str.get(1)"
   ]
  },
  {
   "cell_type": "code",
   "execution_count": 4,
   "metadata": {},
   "outputs": [],
   "source": [
    "data['path'] = data['path'].astype(str)"
   ]
  },
  {
   "cell_type": "code",
   "execution_count": 5,
   "metadata": {},
   "outputs": [],
   "source": [
    "data['path_clean'] = data['path'].apply(lambda x: trimPunc(x))"
   ]
  },
  {
   "cell_type": "code",
   "execution_count": 6,
   "metadata": {},
   "outputs": [],
   "source": [
    "data = data[data['path_clean'].str.find('uncultured') == -1]"
   ]
  },
  {
   "cell_type": "code",
   "execution_count": 7,
   "metadata": {},
   "outputs": [],
   "source": [
    "pdict = dict()\n",
    "for p in set(data['path_clean']):\n",
    "    p2 = p\n",
    "    if 'virus' in p and 'rotavirus' not in p:\n",
    "        p = p.split(\"virus\")[0] + \"virus\"\n",
    "    if p.endswith(\"_str\"):\n",
    "        p = \"_\".join(p.split(\"_\")[:-1])\n",
    "    p = p.replace(\"_subsp\", \"\")\n",
    "    if p.endswith(\"_phe\"):\n",
    "        p = p.replace(\"_phe\", \"\")\n",
    "    p = p.replace(\"-\", \"_\")\n",
    "    if p == 'visna':\n",
    "        p = 'visna_virus'\n",
    "    p = p.replace('eastern_equine', 'equine')\n",
    "    if p.endswith(\"_pig\"):\n",
    "        p = p.replace(\"_pig\", \"\")\n",
    "    if 'rotavirus' in p and not p.endswith('rotavirus_a'):\n",
    "        p = 'rotavirus_a'\n",
    "    p = p.replace(\" \", \"_\")\n",
    "    p = p.replace(\"rabies_virus\", \"rabies_lyssavirus\")\n",
    "    if 'sfpork' not in p and 'sfbeef' not in p:\n",
    "        pdict[p2] = p\n",
    "   "
   ]
  },
  {
   "cell_type": "code",
   "execution_count": 8,
   "metadata": {},
   "outputs": [],
   "source": [
    "data = data[data['path_clean'].isin(pdict)]\n",
    "data['path_clean'] = [pdict[p] for p in data['path_clean']]\n",
    "data['microbe_name'] = data['path_clean']"
   ]
  },
  {
   "cell_type": "code",
   "execution_count": 9,
   "metadata": {},
   "outputs": [],
   "source": [
    "data['country'] = data['country'].str.replace(\"central african republic\", \"central african rep.\")\n",
    "data['country'] = data['country'].str.replace(\"czech republic\", \"czechia\")\n",
    "data['country'] = data['country'].str.replace(\"falkland islands\", \"argentina\")\n",
    "data['country'] = data['country'].str.replace(\"hong kong\", \"china\")\n",
    "data['country'] = data['country'].str.replace(\"ivory coast\", \"côte d'ivoire\")\n",
    "data['country'] = data['country'].str.replace(\"republic of the congo\", \"congo\")\n",
    "data['country'] = data['country'].str.replace(\"united states\", \"united states of america\")\n",
    "data = data[np.invert(data['country'].isnull())]"
   ]
  },
  {
   "cell_type": "code",
   "execution_count": 10,
   "metadata": {},
   "outputs": [],
   "source": [
    "data = data[data['path_type'].isin(['bacteria', 'viruses'])]"
   ]
  },
  {
   "cell_type": "code",
   "execution_count": 11,
   "metadata": {},
   "outputs": [],
   "source": [
    "hosts = set(data['host'])\n",
    "good_hosts = set()\n",
    "for host in hosts:\n",
    "    paths = set(data['path_clean'][data['host'] == host])\n",
    "    if len(paths) >= 5:\n",
    "        good_hosts.add(host)"
   ]
  },
  {
   "cell_type": "code",
   "execution_count": 12,
   "metadata": {},
   "outputs": [],
   "source": [
    "data = data[data['host'].isin(good_hosts)]"
   ]
  },
  {
   "cell_type": "code",
   "execution_count": 13,
   "metadata": {},
   "outputs": [],
   "source": [
    "data = data.drop_duplicates()"
   ]
  },
  {
   "cell_type": "code",
   "execution_count": 14,
   "metadata": {},
   "outputs": [],
   "source": [
    "sppnames = {'cow':'bos_taurus',\n",
    "             'dog': 'canis_lupus',\n",
    "             'goat': 'capra_hircus',\n",
    "             'horse': 'equus_caballus',\n",
    "             'cat':'felis_catus',\n",
    "             'rabbit': 'oryctolagus_cuniculus',\n",
    "             'sheep': 'ovis_aries',\n",
    "             'pig': 'sus_scrofa'}"
   ]
  },
  {
   "cell_type": "code",
   "execution_count": 15,
   "metadata": {},
   "outputs": [],
   "source": [
    "sppnames2 = {'bos_taurus': 'cow',\n",
    "             'canis_lupus': 'dog',\n",
    "             'capra_hircus': 'goat',\n",
    "             'equus_caballus': 'horse',\n",
    "             'felis_catus': 'cat',\n",
    "             'oryctolagus_cuniculus': 'rabbit',\n",
    "             'ovis_aries': 'sheep',\n",
    "             'sus_scrofa': 'pig'}"
   ]
  },
  {
   "cell_type": "code",
   "execution_count": 16,
   "metadata": {},
   "outputs": [],
   "source": [
    "data.index = range(len(data))"
   ]
  },
  {
   "cell_type": "code",
   "execution_count": 17,
   "metadata": {},
   "outputs": [],
   "source": [
    "data['host_name'] = [sppnames2[s] for s in data['host']]"
   ]
  },
  {
   "cell_type": "code",
   "execution_count": 18,
   "metadata": {},
   "outputs": [],
   "source": [
    "data['host_scientific_name'] = data['host']"
   ]
  },
  {
   "cell_type": "code",
   "execution_count": 19,
   "metadata": {},
   "outputs": [],
   "source": [
    "data['number_of_samples'] = data['count']"
   ]
  },
  {
   "cell_type": "code",
   "execution_count": 20,
   "metadata": {},
   "outputs": [],
   "source": [
    "data['microbe_type'] = data['path_type']"
   ]
  },
  {
   "cell_type": "code",
   "execution_count": 21,
   "metadata": {},
   "outputs": [],
   "source": [
    "data = data[['host_name', 'host_scientific_name', 'microbe_name', 'microbe_type', 'country', 'number_of_samples']]"
   ]
  },
  {
   "cell_type": "code",
   "execution_count": 22,
   "metadata": {},
   "outputs": [],
   "source": [
    "d2 = data.groupby(['host_name', 'microbe_name', 'country'])\n",
    "nsamples = d2['number_of_samples'].apply(sum).values\n",
    "d2 = d2.first()\n",
    "d3 = d2[d2.columns]\n",
    "d3.index = range(len(d3))\n",
    "d3['host_name'] = [d[0] for d in d2.index]\n",
    "d3['microbe_name'] = [d[1] for d in d2.index]\n",
    "d3['country'] = [d[2] for d in d2.index]\n",
    "d3['number_of_samples'] = nsamples\n",
    "data = copy.copy(d3)\n",
    "data = data[['host_name', 'host_scientific_name', 'microbe_name', 'microbe_type', 'country', 'number_of_samples']]"
   ]
  },
  {
   "cell_type": "code",
   "execution_count": 23,
   "metadata": {},
   "outputs": [],
   "source": [
    "d = ['sheep', 'ovis_aries', 'visna_virus', 'virus', 'china', 78]"
   ]
  },
  {
   "cell_type": "code",
   "execution_count": 24,
   "metadata": {},
   "outputs": [],
   "source": [
    "nrows = len(data)"
   ]
  },
  {
   "cell_type": "code",
   "execution_count": 25,
   "metadata": {},
   "outputs": [],
   "source": [
    "data.loc[nrows+1] = d"
   ]
  },
  {
   "cell_type": "code",
   "execution_count": 26,
   "metadata": {},
   "outputs": [
    {
     "name": "stdout",
     "output_type": "stream",
     "text": [
      "brachyspira_pilosicoli\n"
     ]
    },
    {
     "name": "stderr",
     "output_type": "stream",
     "text": [
      "/home/katy/miniconda3/lib/python3.6/site-packages/Bio/Entrez/__init__.py:580: UserWarning: \n",
      "Email address is not specified.\n",
      "\n",
      "To make use of NCBI's E-utilities, NCBI requires you to specify your\n",
      "email address with each request.  As an example, if your email address\n",
      "is A.N.Other@example.com, you can specify it as follows:\n",
      "   from Bio import Entrez\n",
      "   Entrez.email = 'A.N.Other@example.com'\n",
      "In case of excessive usage of the E-utilities, NCBI will attempt to contact\n",
      "a user at the email address provided before blocking access to the\n",
      "E-utilities.\n",
      "  E-utilities.\"\"\", UserWarning)\n"
     ]
    },
    {
     "name": "stdout",
     "output_type": "stream",
     "text": [
      "escherichia_albertii\n",
      "brucella_melitensis\n",
      "bacillus_anthracis\n",
      "betacoronavirus\n",
      "porcine_kobuvirus\n",
      "moraxella_bovis\n",
      "ehrlichia_chaffeensis\n",
      "streptococcus_dysgalactiae\n",
      "japanese_encephalitis_virus\n",
      "borna_disease_virus\n",
      "bovine_viral_diarrhea_virus\n",
      "equine_rotavirus_a\n",
      "equid_herpesvirus\n",
      "x equid_herpesvirus\n",
      "brazilian_caprine_lentivirus\n",
      "african_horse_sickness_virus\n",
      "campylobacter_lanienae\n",
      "caprine_herpesvirus\n",
      "x caprine_herpesvirus\n",
      "caprine_lentivirus\n",
      "cowpox_virus\n",
      "hepatitis_e_virus\n",
      "clostridium_perfringens\n",
      "orf_virus\n",
      "cantagalo_virus\n",
      "lawsonia_intracellularis\n",
      "rabbit_hemorrhagic_disease_virus\n",
      "bluetongue_virus\n",
      "campylobacter_fetus\n",
      "sapelovirus\n",
      "feline_coronavirus\n",
      "peste_des_petits_ruminants_virus\n",
      "clostridium_botulinum\n",
      "pseudocowpox_virus\n",
      "porcine_circovirus\n",
      "feline_immunodeficiency_virus\n",
      "bovine_coronavirus\n",
      "kobuvirus\n",
      "mammalian_orthoreovirus\n",
      "porcine_picobirnavirus\n",
      "leptonema_illini_dsm\n",
      "x leptonema_illini_dsm\n",
      "rotavirus_a\n",
      "small_ruminant_lentivirus\n",
      "anaplasma_marginale\n",
      "mycobacterium_avium\n",
      "escherichia_coli\n",
      "brucella_abortus\n",
      "bartonella_henselae\n",
      "brachyspira_canis\n",
      "yersinia_pseudotuberculosis\n",
      "bartonella_vinsonii\n",
      "classical_swine_fever_virus\n",
      "porcine_parvovirus\n",
      "ovine_herpesvirus\n",
      "x ovine_herpesvirus\n",
      "actinobacillus_porcitonsillarum\n",
      "prevotella_ruminicola\n",
      "actinobacillus_pleuropneumoniae\n",
      "anaplasma_phagocytophilum\n",
      "hendra_virus\n",
      "brucella_canis\n",
      "bartonella_chomelii\n",
      "enterovirus\n",
      "rabies_lyssavirus\n",
      "salmonella_enterica\n",
      "torque_teno_sus_virus\n",
      "burkholderia_mallei_gb\n",
      "x burkholderia_mallei_gb\n",
      "candidatus_mycoplasma_haemovis\n",
      "norwalk_like_virus\n",
      "african_swine_fever_virus\n",
      "feline_calicivirus\n",
      "torque_teno_virus\n",
      "swine_hepatitis_e_virus\n",
      "aerococcus_viridans\n",
      "nicoletella_semolina\n",
      "streptococcus_canis\n",
      "border_disease_virus\n",
      "bovine_leukemia_virus\n",
      "staphylococcus_pseudintermedius\n",
      "ehrlichia_canis\n",
      "staphylococcus_rostri\n",
      "feline_leukemia_virus\n",
      "porcine_teschovirus\n",
      "west_nile_virus\n",
      "chlamydia_abortus\n",
      "staphylococcus_epidermidis\n",
      "bergeyella_zoohelcum\n",
      "candidatus_mycoplasma_haemobos\n",
      "mycoplasma_haemofelis\n",
      "influenza_a_virus\n",
      "rabbit_calicivirus\n",
      "canine_coronavirus\n",
      "staphylococcus_aureus\n",
      "bovine_papillomavirus\n",
      "vaccinia_virus\n",
      "haemophilus_parasuis\n",
      "suid_herpesvirus\n",
      "x suid_herpesvirus\n",
      "ovine_lentivirus\n",
      "brachyspira_hyodysenteriae\n",
      "ovine_progressive_pneumonia_virus\n",
      "streptococcus_suis\n",
      "bovine_rotavirus_a\n",
      "arcobacter_trophiarum\n",
      "equine_encephalitis_virus\n",
      "x equine_encephalitis_virus\n",
      "mycoplasma_hyopneumoniae\n",
      "canine_distemper_virus\n",
      "porcine_rotavirus_a\n",
      "encephalomyocarditis_virus\n",
      "bovine_ephemeral_fever_virus\n",
      "rift_valley_fever_virus\n",
      "brucella_ovis\n",
      "aino_virus\n",
      "neorickettsia_risticii\n",
      "foot_and_mouth_disease_virus\n",
      "lactococcus_lactis\n",
      "porcine_hokovirus\n",
      "bovine_herpesvirus\n",
      "x bovine_herpesvirus\n",
      "epizootic_hemorrhagic_disease_virus\n",
      "porcine_reproductive_and_respiratory_syndrome_virus\n",
      "equine_infectious_anemia_virus\n",
      "myxoma_virus\n",
      "mycoplasma_suis\n",
      "peaton_virus\n",
      "visna_virus\n",
      "moraxella_bovoculi\n",
      "chlamydia_pneumoniae\n",
      "feline_panleukopenia_virus\n",
      "campylobacter_coli\n",
      "porcine_epidemic_diarrhea_virus\n",
      "campylobacter_jejuni\n",
      "bovine_enteric_calicivirus\n",
      "brucella_suis\n",
      "bovine_foamy_virus\n",
      "tt_virus\n",
      "equine_papillomavirus\n",
      "kimberley_virus\n",
      "streptococcus_pyogenes\n",
      "canine_parvovirus\n",
      "enterococcus_faecalis\n",
      "caprine_arthritis_encephalitis_virus\n",
      "porphyromonas_levii\n"
     ]
    }
   ],
   "source": [
    "txids = dict()\n",
    "for m in set(data['microbe_name']):\n",
    "    print (m)\n",
    "    m2 = m.replace(\"_\", \" \")\n",
    "    D = None\n",
    "    while D is None:\n",
    "        try:\n",
    "            D = Entrez.esearch(db='taxonomy', term=m2, retmode='json').read()\n",
    "        except HTTPError:\n",
    "            time.sleep(20)\n",
    "    I = json.loads(D)['esearchresult']['idlist']\n",
    "    if len(I) == 1:\n",
    "        txids[m] = I[0]\n",
    "    else:\n",
    "        print (\"x\", m)"
   ]
  },
  {
   "cell_type": "code",
   "execution_count": 27,
   "metadata": {},
   "outputs": [],
   "source": [
    "data = data[data['microbe_name'].isin(txids)]"
   ]
  },
  {
   "cell_type": "code",
   "execution_count": 28,
   "metadata": {},
   "outputs": [],
   "source": [
    "data['microbe_id'] = [txids[i] for i in data['microbe_name']]"
   ]
  },
  {
   "cell_type": "code",
   "execution_count": 29,
   "metadata": {},
   "outputs": [
    {
     "name": "stderr",
     "output_type": "stream",
     "text": [
      "/home/katy/miniconda3/lib/python3.6/site-packages/Bio/Entrez/__init__.py:580: UserWarning: \n",
      "Email address is not specified.\n",
      "\n",
      "To make use of NCBI's E-utilities, NCBI requires you to specify your\n",
      "email address with each request.  As an example, if your email address\n",
      "is A.N.Other@example.com, you can specify it as follows:\n",
      "   from Bio import Entrez\n",
      "   Entrez.email = 'A.N.Other@example.com'\n",
      "In case of excessive usage of the E-utilities, NCBI will attempt to contact\n",
      "a user at the email address provided before blocking access to the\n",
      "E-utilities.\n",
      "  E-utilities.\"\"\", UserWarning)\n"
     ]
    }
   ],
   "source": [
    "fdict = dict()\n",
    "for nam, t in txids.items():\n",
    "    x = Entrez.efetch(db='taxonomy', id=t, rettype='xml', retmode='xml').read()\n",
    "    x2 = xmltodict.parse(x)['TaxaSet']['Taxon']['LineageEx']['Taxon']\n",
    "    for d in x2:\n",
    "        if d['Rank'] == 'family':\n",
    "            fdict[nam] = d['ScientificName']"
   ]
  },
  {
   "cell_type": "code",
   "execution_count": 30,
   "metadata": {
    "scrolled": true
   },
   "outputs": [],
   "source": [
    "data['microbe_family'] = [fdict[i] for i in data['microbe_name']]"
   ]
  },
  {
   "cell_type": "code",
   "execution_count": 31,
   "metadata": {},
   "outputs": [],
   "source": [
    "data = data[['host_name', 'host_scientific_name', 'microbe_name', 'microbe_id', 'microbe_family', 'microbe_type', 'country', 'number_of_samples']]"
   ]
  },
  {
   "cell_type": "code",
   "execution_count": null,
   "metadata": {},
   "outputs": [],
   "source": []
  },
  {
   "cell_type": "code",
   "execution_count": null,
   "metadata": {},
   "outputs": [],
   "source": [
    "\n"
   ]
  }
 ],
 "metadata": {
  "kernelspec": {
   "display_name": "Python 3",
   "language": "python",
   "name": "python3"
  },
  "language_info": {
   "codemirror_mode": {
    "name": "ipython",
    "version": 3
   },
   "file_extension": ".py",
   "mimetype": "text/x-python",
   "name": "python",
   "nbconvert_exporter": "python",
   "pygments_lexer": "ipython3",
   "version": "3.6.3"
  }
 },
 "nbformat": 4,
 "nbformat_minor": 2
}
