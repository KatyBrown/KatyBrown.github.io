{
 "cells": [
  {
   "cell_type": "code",
   "execution_count": 53,
   "metadata": {},
   "outputs": [],
   "source": [
    "import pandas as pd\n",
    "import numpy as np\n",
    "import ut_functions\n",
    "import sys\n",
    "sys.path.append(\"../interface\")\n",
    "import functions\n",
    "from collections import Counter\n",
    "% matplotlib inline\n",
    "import matplotlib\n",
    "import matplotlib.pyplot as plt\n",
    "import matplotlib.gridspec as gridspec\n",
    "import ut_functions\n",
    "import pickle"
   ]
  },
  {
   "cell_type": "code",
   "execution_count": 54,
   "metadata": {},
   "outputs": [],
   "source": [
    "import importlib\n",
    "importlib.reload(functions)\n",
    "from functions import *"
   ]
  },
  {
   "cell_type": "code",
   "execution_count": 55,
   "metadata": {},
   "outputs": [],
   "source": [
    "def randomReads(seq, length, n):\n",
    "    seq = seq[0:5000]\n",
    "    reads = [seq[n:n+length] for n in range(0, len(seq)-(length+1))]\n",
    "    random_reads = np.random.choice(reads, n)\n",
    "    return (random_reads)"
   ]
  },
  {
   "cell_type": "code",
   "execution_count": 56,
   "metadata": {},
   "outputs": [],
   "source": [
    "refs = ut_functions.FastaToDict(\"../data/references.fasta\")"
   ]
  },
  {
   "cell_type": "code",
   "execution_count": 57,
   "metadata": {},
   "outputs": [],
   "source": [
    "answers = functions.getSppAnswers()"
   ]
  },
  {
   "cell_type": "code",
   "execution_count": 58,
   "metadata": {},
   "outputs": [],
   "source": [
    "viruses = functions.getPathogens()"
   ]
  },
  {
   "cell_type": "code",
   "execution_count": 59,
   "metadata": {},
   "outputs": [],
   "source": [
    "allpaths = getPathNames()"
   ]
  },
  {
   "cell_type": "code",
   "execution_count": 71,
   "metadata": {},
   "outputs": [
    {
     "name": "stdout",
     "output_type": "stream",
     "text": [
      "1\n",
      "2\n",
      "3\n",
      "4\n",
      "5\n",
      "6\n"
     ]
    }
   ],
   "source": [
    "samplereads = dict()\n",
    "for k, v in viruses.items():\n",
    "    print (k)\n",
    "    all_goodreads = []\n",
    "    while len(all_goodreads) < 8000:\n",
    "        for nam in v:\n",
    "            nreads_small = np.random.choice(np.arange(1000, 2000))\n",
    "            nreads_med = np.random.choice(np.arange(2000, 5000))\n",
    "            nreads_high = np.random.choice(np.arange(5000, 8000))\n",
    "            nreads = np.random.choice([nreads_small, nreads_med, nreads_high])\n",
    "            goodreads = randomReads(refs[nam.capitalize().replace(\" \", \"_\").replace(\"_e_\", \"_E_\").replace(\"_a_\", \"_A_\")], 50, nreads)\n",
    "            all_goodreads += list(goodreads)\n",
    "    n_goodreads = np.random.choice(np.arange(6000, 10000))\n",
    "    allreads = list(np.random.choice(all_goodreads, n_goodreads))\n",
    "    n_badreads = 10000 - n_goodreads\n",
    "    n_random_paths = np.random.choice(np.arange(2, 5))\n",
    "    for i in range(n_random_paths):\n",
    "        nreads_random_path = np.random.choice(np.arange(1, 25))\n",
    "        path = np.random.choice(list(set(allpaths) - set(v)))\n",
    "        seq = refs[path.capitalize().replace(\" \", \"_\").replace(\"_e_\", \"_E_\").replace(\"_a_\", \"_A_\")]\n",
    "        reads = randomReads(seq, 50, nreads_random_path)\n",
    "        allreads += list(reads)\n",
    "    n_randomreads = 10000 - len(allreads)\n",
    "    for i in range(n_randomreads):\n",
    "        allreads.append(\"\".join([np.random.choice(['A', 'C', 'T', 'G']) for i in range(0, 50)]))\n",
    "    np.random.shuffle(allreads)\n",
    "    samplereads[k] = allreads"
   ]
  },
  {
   "cell_type": "code",
   "execution_count": 72,
   "metadata": {},
   "outputs": [],
   "source": [
    "for key, seqs in samplereads.items():\n",
    "    out = open(\"../data/sample_%s_reads.fasta\" % key, \"w\")\n",
    "    for i, s in enumerate(seqs):\n",
    "        out.write(\">sample_%s_read_%i\\n%s\\n\" % (key, i, s))\n",
    "    out.close()"
   ]
  },
  {
   "cell_type": "code",
   "execution_count": 73,
   "metadata": {},
   "outputs": [],
   "source": [
    "importlib.reload(functions)\n",
    "for dataset in viruses.keys():\n",
    "    p = functions.mapReadsActual(dataset)\n",
    "    o = open(\"../data/%s.pickle\" % dataset, \"wb\")\n",
    "    pickle.dump(p, o)\n",
    "    o.close()"
   ]
  },
  {
   "cell_type": "code",
   "execution_count": 74,
   "metadata": {},
   "outputs": [],
   "source": [
    "for dataset in viruses.keys():\n",
    "    o = open(\"../data/%s.pickle\" % dataset, \"rb\")\n",
    "    r = pickle.load(o)\n",
    "    o.close()\n",
    "    rows = []\n",
    "    for ref, val in r.items():\n",
    "        rows.append([ref, len(val)])\n",
    "    tab = pd.DataFrame(rows, columns=['Reference Microbe', \"Number of Reads in Sample\"])\n",
    "    tab.to_csv(\"../data/sample_%s_reads.tsv\" % dataset, sep=\"\\t\", index=None)"
   ]
  },
  {
   "cell_type": "code",
   "execution_count": null,
   "metadata": {},
   "outputs": [],
   "source": []
  }
 ],
 "metadata": {
  "kernelspec": {
   "display_name": "Python 3",
   "language": "python",
   "name": "python3"
  },
  "language_info": {
   "codemirror_mode": {
    "name": "ipython",
    "version": 3
   },
   "file_extension": ".py",
   "mimetype": "text/x-python",
   "name": "python",
   "nbconvert_exporter": "python",
   "pygments_lexer": "ipython3",
   "version": "3.6.3"
  }
 },
 "nbformat": 4,
 "nbformat_minor": 2
}
